{
 "cells": [
  {
   "cell_type": "markdown",
   "id": "aa43bc1e-041b-4135-a583-ccac49451fe2",
   "metadata": {},
   "source": [
    "# 1. 텍스트 데이터 다루기\n",
    "> 신경망의 학습을 위해 텍스트를 수치형 텐서로 변환하는 과정(__텍스트 벡터화__)가 필요하다.\n",
    "\n",
    "### 텍스트 벡터화 방식\n",
    "* 텍스트를 단어로 나누고 각 단어를 하나의 벡터로 변환\n",
    "* 텍스트를 문자로 나누고 각 문자를 하나의 벡터로 변환\n",
    "* 텍스트에서 단어난 문자의 n-그램을 추출, 각 n-그램을 하나의 벡터로 변환한다. n-그램은 연속된 단어 & 문자의 그룹으로 텍스트에서 단어나 문자를 하나씩 이동하면서 추출\n",
    "\n",
    "> 토큰 : 텍스트를 나누는 단위(단어, 문자)\n",
    "> 토큰화 : 텍스트를 토큰으로 나누는 작업\n",
    "\n",
    "## 토큰과 벡터를 연결하는 방법\n",
    "#### 1. 원-핫 인코딩\n",
    "> 모든 단어에 정수 인덱스 부여후 정수 인덱스 i를 크기가 어휘 사전의 크기인 이진 벡터로 변환한다.(원소 하나만 1이고 나머지 0)\n",
    "#### 2. 토큰 임베딩(단어 임베딩)\n",
    "> 실수형 밀집 벡터로 워-핫 인코딩에 비해 차원이 적다.\n",
    "    \n",
    "> 단어 임베딩을 만드는  방법   \n",
    "   * 관심 대상인 문제와 함께 단어 임베딩 학습. 이런 경우 랜덤한 단어 벡터로 시작해서 신경망의 가중치를 학습하는 것과 같은 방식으로 단어 벡터를 학습.\n",
    "   * 풀려는 문제가 아닌 다른 머신 러닝 작업에서 미리 계산된 단어 임베딩을 로드. 이를 __사전 훈련된 단어 임베딩__ 이라고한다.\n",
    "   \n",
    "> Embedding 층으로 단어 임베딩을 만들때 임베딩 공간에서 비슷한 뜻의 단어는 가까이 다른 뜻의 단어는 먼 곳에 배치한다"
   ]
  },
  {
   "cell_type": "code",
   "execution_count": 5,
   "id": "59530ce2-af41-4a22-b59b-1bce203bb1fd",
   "metadata": {},
   "outputs": [],
   "source": [
    "# Embedding 층의 객체 생성하기\n",
    "from keras.layers import Embedding\n",
    "\n",
    "embedding_layer = Embedding(1000, 64) # Embedding 층은 적어도 2개의 매개변수를 받는다\n",
    "# 가능한 토큰의 개수(1000으로 단언 인덱스 최대값 + 1와 임베딩차원(64)이다."
   ]
  },
  {
   "cell_type": "code",
   "execution_count": 6,
   "id": "f9571a1e-3f0a-4ffc-8399-c606aba53082",
   "metadata": {},
   "outputs": [],
   "source": [
    "from keras.datasets import imdb\n",
    "from keras import preprocessing\n",
    "\n",
    "max_features = 10000  # 특성으로 사용할 단어의 수\n",
    "maxlen = 20  # 사용할 텍스트의 길이\n",
    "\n",
    "(x_train, y_train), (x_test, y_test) = imdb.load_data(num_words = max_features)  # 정수 리스트로 데이터 로드\n",
    "\n",
    "x_train = preprocessing.sequence.pad_sequences(x_train, maxlen=maxlen)\n",
    "x_test = preprocessing.sequence.pad_sequences(x_test, maxlen=maxlen)"
   ]
  },
  {
   "cell_type": "code",
   "execution_count": 7,
   "id": "dfe6d5ce-8b68-44ec-8c67-4ed811a5ac9b",
   "metadata": {},
   "outputs": [
    {
     "name": "stdout",
     "output_type": "stream",
     "text": [
      "Model: \"sequential_1\"\n",
      "_________________________________________________________________\n",
      "Layer (type)                 Output Shape              Param #   \n",
      "=================================================================\n",
      "embedding_3 (Embedding)      (None, 20, 8)             80000     \n",
      "_________________________________________________________________\n",
      "flatten_1 (Flatten)          (None, 160)               0         \n",
      "_________________________________________________________________\n",
      "dense_1 (Dense)              (None, 1)                 161       \n",
      "=================================================================\n",
      "Total params: 80,161\n",
      "Trainable params: 80,161\n",
      "Non-trainable params: 0\n",
      "_________________________________________________________________\n",
      "Epoch 1/10\n",
      "625/625 [==============================] - 5s 4ms/step - loss: 0.6855 - acc: 0.5695 - val_loss: 0.6168 - val_acc: 0.7004\n",
      "Epoch 2/10\n",
      "625/625 [==============================] - 2s 4ms/step - loss: 0.5698 - acc: 0.7415 - val_loss: 0.5236 - val_acc: 0.7334\n",
      "Epoch 3/10\n",
      "625/625 [==============================] - 3s 5ms/step - loss: 0.4728 - acc: 0.7819 - val_loss: 0.5006 - val_acc: 0.7466\n",
      "Epoch 4/10\n",
      "625/625 [==============================] - 3s 5ms/step - loss: 0.4184 - acc: 0.8081 - val_loss: 0.4937 - val_acc: 0.7546\n",
      "Epoch 5/10\n",
      "625/625 [==============================] - 3s 5ms/step - loss: 0.3878 - acc: 0.8293 - val_loss: 0.4970 - val_acc: 0.7568\n",
      "Epoch 6/10\n",
      "625/625 [==============================] - 3s 5ms/step - loss: 0.3764 - acc: 0.8329 - val_loss: 0.4998 - val_acc: 0.7542\n",
      "Epoch 7/10\n",
      "625/625 [==============================] - 3s 5ms/step - loss: 0.3539 - acc: 0.8430 - val_loss: 0.5059 - val_acc: 0.7498\n",
      "Epoch 8/10\n",
      "625/625 [==============================] - 3s 5ms/step - loss: 0.3237 - acc: 0.8617 - val_loss: 0.5132 - val_acc: 0.7532\n",
      "Epoch 9/10\n",
      "625/625 [==============================] - 3s 5ms/step - loss: 0.3124 - acc: 0.8694 - val_loss: 0.5240 - val_acc: 0.7466\n",
      "Epoch 10/10\n",
      "625/625 [==============================] - 3s 5ms/step - loss: 0.2983 - acc: 0.8767 - val_loss: 0.5310 - val_acc: 0.7472\n"
     ]
    }
   ],
   "source": [
    "# IMDB 데이터에 Embedding 층과 분류기 사용하기\n",
    "from keras.models import Sequential\n",
    "from keras.layers import Flatten, Dense, Embedding\n",
    "\n",
    "model = Sequential()\n",
    "model.add(Embedding(10000, 8, input_length=maxlen))  \n",
    "# 나중에 임베딩된 입력을 Flatten 층에서 펼치기 위해 Embedding 층에 input_length를 지정\n",
    "# Embedding 층의 출력 크기는 (samples, maxlen, 8) 이 된다\n",
    "\n",
    "model.add(Flatten())\n",
    "\n",
    "model.add(Dense(1, activation='sigmoid'))\n",
    "model.compile(optimizer='rmsprop', loss = 'binary_crossentropy', metrics=['acc'])\n",
    "model.summary()\n",
    "\n",
    "history = model.fit(x_train, y_train,\n",
    "                   epochs=10,\n",
    "                   batch_size=32,\n",
    "                   validation_split=0.2)"
   ]
  },
  {
   "cell_type": "markdown",
   "id": "aced2463-30bb-4004-89f3-ec2dcef30e5e",
   "metadata": {},
   "source": [
    "### 사전 훈련된 단어 임베딩 사용하기\n",
    "케라스 임베딩 층을 위해 미리 계산된 단어 임베딩 DB의 일부로 __Word2vec, GloVe__ 이다."
   ]
  },
  {
   "cell_type": "markdown",
   "id": "baab666a-2467-4708-9982-e07c77a39053",
   "metadata": {},
   "source": [
    "### 모든 내용을 적용하기 : 원본 텍스트에서 단어 임베딩까지\n",
    "> IMDB 데이터셋을 받고 압축 해제후 훈련 데이터 리스트와 리뷰 레이블 리스트를 만듦"
   ]
  },
  {
   "cell_type": "code",
   "execution_count": 25,
   "id": "c12f4f64-d529-4c9e-b1de-5e4bbdce3b5a",
   "metadata": {},
   "outputs": [],
   "source": [
    "import os \n",
    "\n",
    "imdb_dir ='./datasets/aclImdb'\n",
    "train_dir = os.path.join(imdb_dir, 'test')\n",
    "\n",
    "labels = []\n",
    "texts = []\n",
    "\n",
    "for label_type in ['neg', 'pos'] :\n",
    "    dir_name = os.path.join(train_dir, label_type)\n",
    "    for fname in os.listdir(dir_name) :\n",
    "        if fname[-4:] == '.txt' :\n",
    "            f = open(os.path.join(dir_name, fname), encoding='utf8')\n",
    "            texts.append(f.read())\n",
    "            f.close()\n",
    "            if label_type == 'neg' :\n",
    "                labels.append(0)\n",
    "            else :\n",
    "                labels.append(1)"
   ]
  },
  {
   "cell_type": "code",
   "execution_count": 26,
   "id": "f2fd86ae-f7ad-46b5-a195-f1055f6c94d7",
   "metadata": {},
   "outputs": [
    {
     "name": "stdout",
     "output_type": "stream",
     "text": [
      "72633개의 고유 토큰을 발견\n",
      "데이터 텐서의 크기:  (17243, 100)\n",
      "레이블 텐서의 크기:  (17243,)\n"
     ]
    }
   ],
   "source": [
    "# IMDB 원본 데이터의 텍스트를 토큰화하기\n",
    "from keras.preprocessing.text import Tokenizer\n",
    "from keras.preprocessing.sequence import pad_sequences\n",
    "import numpy as np\n",
    "\n",
    "maxlen = 100  # 100개 이후 단어는 버림\n",
    "training_samples = 200   # 훈련 샘플은 200개\n",
    "validation_samples = 10000   # 검증 샘플은 1만개 \n",
    "max_words = 10000    # 데이터셋에서 빈도 높은 1만개 단어만 사용\n",
    "\n",
    "tokenizer = Tokenizer(num_words=max_words)\n",
    "tokenizer.fit_on_texts(texts)\n",
    "sequences = tokenizer.texts_to_sequences(texts)\n",
    "\n",
    "word_index = tokenizer.word_index\n",
    "print('%s개의 고유 토큰을 발견' % len(word_index))\n",
    "\n",
    "data = pad_sequences(sequences, maxlen=maxlen)\n",
    "labels = np.asarray(labels)\n",
    "print('데이터 텐서의 크기: ', data.shape)\n",
    "print('레이블 텐서의 크기: ', labels.shape)\n",
    "\n",
    "indices = np.arange(data.shape[0])\n",
    "# 데이터를 분활하기 전 샘플을 섞는다.\n",
    "np.random.shuffle(indices)\n",
    "data = data[indices]\n",
    "labels = labels[indices]\n",
    "\n",
    "x_train = data[:training_samples]\n",
    "y_train = labels[:training_samples]\n",
    "x_val = data[training_samples: training_samples + validation_samples]\n",
    "y_val = labels[training_samples: training_samples + validation_samples]"
   ]
  },
  {
   "cell_type": "code",
   "execution_count": 27,
   "id": "8058bb5f-c0e4-4707-ab4d-a07ad881510e",
   "metadata": {},
   "outputs": [
    {
     "name": "stdout",
     "output_type": "stream",
     "text": [
      "400000개의 단어 벡터를 찾았다.\n"
     ]
    }
   ],
   "source": [
    "# GioVe 단어 임베딩 파일 파싱하기\n",
    "glove_dir = './datasets/'\n",
    "\n",
    "embeddings_index = {}\n",
    "f = open(os.path.join(glove_dir, 'glove.6B.100d.txt'), encoding='utf8')\n",
    "for line in f:\n",
    "    values = line.split()\n",
    "    word = values[0]\n",
    "    coefs = np.asarray(values[1:], dtype = 'float32')\n",
    "    embeddings_index[word] = coefs\n",
    "f.close()\n",
    "\n",
    "print('%s개의 단어 벡터를 찾았다.' % len(embeddings_index))"
   ]
  },
  {
   "cell_type": "markdown",
   "id": "f10c9315-6dce-48f2-9128-d5503d2634e7",
   "metadata": {},
   "source": [
    "Embedding 층에 주입할 수 있게 임베딩 행렬을 만든다\n",
    "> 행렬의 크기는 (max_words, embeddingdim)이다\n",
    "\n",
    "* 행렬의 i번째 원소는 단어 인덱스 i번째 단어에 상응하는 임베딩 딤 차원 벡터이다.\n",
    "\n",
    "### GloVe 단어 임베딩 행렬 준비하기"
   ]
  },
  {
   "cell_type": "code",
   "execution_count": 28,
   "id": "fa7b092a-7f82-42bc-8512-ba0a5d8b0425",
   "metadata": {},
   "outputs": [
    {
     "name": "stdout",
     "output_type": "stream",
     "text": [
      "Model: \"sequential_3\"\n",
      "_________________________________________________________________\n",
      "Layer (type)                 Output Shape              Param #   \n",
      "=================================================================\n",
      "embedding_5 (Embedding)      (None, 100, 100)          1000000   \n",
      "_________________________________________________________________\n",
      "flatten_3 (Flatten)          (None, 10000)             0         \n",
      "_________________________________________________________________\n",
      "dense_4 (Dense)              (None, 32)                320032    \n",
      "_________________________________________________________________\n",
      "dense_5 (Dense)              (None, 1)                 33        \n",
      "=================================================================\n",
      "Total params: 1,320,065\n",
      "Trainable params: 1,320,065\n",
      "Non-trainable params: 0\n",
      "_________________________________________________________________\n"
     ]
    }
   ],
   "source": [
    "embedding_dim = 100\n",
    "\n",
    "embedding_matrix = np.zeros((max_words, embedding_dim))\n",
    "for word, i in word_index.items():\n",
    "    if i < max_words:\n",
    "        embedding_vector = embeddings_index.get(word)\n",
    "        if embedding_vector is not None:\n",
    "            embedding_matrix[i] = embedding_vector  # 임베딩 인덱스에 없는 단어는 0\n",
    "            \n",
    "# 모델 정의\n",
    "model = Sequential()\n",
    "model.add(Embedding(max_words, embedding_dim, input_length=maxlen))\n",
    "model.add(Flatten())\n",
    "model.add(Dense(32, activation='relu'))\n",
    "model.add(Dense(1, activation='sigmoid'))\n",
    "model.summary()"
   ]
  },
  {
   "cell_type": "markdown",
   "id": "63a21956-b6f1-4265-a804-5fe1628429d8",
   "metadata": {},
   "source": [
    "### 모델에 GIoVe 임베딩 로드하기\n",
    "Embedding 층은 하나의 가중치 행렬을 가진다(2D 부동 소수 행렬로 i번째 원소는 i번째 인덱스에 상으하는 단어 벡터)"
   ]
  },
  {
   "cell_type": "code",
   "execution_count": 29,
   "id": "38d0349a-0e54-49a4-b73f-40d7387e39e4",
   "metadata": {},
   "outputs": [],
   "source": [
    "# 사전 훈련된 단어 임베딩을 Embedding 층에 로드\n",
    "model.layers[0].set_weights([embedding_matrix])\n",
    "model.layers[0].trainable = False  # Embedding 층 동결"
   ]
  },
  {
   "cell_type": "code",
   "execution_count": 30,
   "id": "e867bc14-cca4-47d3-81e3-780c02c7dc1f",
   "metadata": {},
   "outputs": [
    {
     "name": "stdout",
     "output_type": "stream",
     "text": [
      "Epoch 1/10\n",
      "7/7 [==============================] - 6s 548ms/step - loss: 1.5896 - acc: 0.5681 - val_loss: 0.5885 - val_acc: 0.7278\n",
      "Epoch 2/10\n",
      "7/7 [==============================] - 3s 545ms/step - loss: 0.4343 - acc: 0.7667 - val_loss: 0.6001 - val_acc: 0.7278\n",
      "Epoch 3/10\n",
      "7/7 [==============================] - 3s 543ms/step - loss: 0.4243 - acc: 0.7745 - val_loss: 0.5903 - val_acc: 0.7288\n",
      "Epoch 4/10\n",
      "7/7 [==============================] - 2s 370ms/step - loss: 0.3238 - acc: 0.8379 - val_loss: 0.8434 - val_acc: 0.7278\n",
      "Epoch 5/10\n",
      "7/7 [==============================] - 3s 540ms/step - loss: 0.3188 - acc: 0.8211 - val_loss: 0.8054 - val_acc: 0.7278\n",
      "Epoch 6/10\n",
      "7/7 [==============================] - 3s 522ms/step - loss: 0.2432 - acc: 0.8416 - val_loss: 0.6535 - val_acc: 0.7277\n",
      "Epoch 7/10\n",
      "7/7 [==============================] - 3s 499ms/step - loss: 0.2052 - acc: 0.9346 - val_loss: 0.7865 - val_acc: 0.7278\n",
      "Epoch 8/10\n",
      "7/7 [==============================] - 3s 469ms/step - loss: 0.2197 - acc: 0.9133 - val_loss: 0.7618 - val_acc: 0.7277\n",
      "Epoch 9/10\n",
      "7/7 [==============================] - 3s 470ms/step - loss: 0.1987 - acc: 0.9191 - val_loss: 0.6677 - val_acc: 0.7273\n",
      "Epoch 10/10\n",
      "7/7 [==============================] - 3s 462ms/step - loss: 0.1941 - acc: 0.9250 - val_loss: 0.8578 - val_acc: 0.7278\n"
     ]
    }
   ],
   "source": [
    "model.compile(optimizer = 'rmsprop', loss='binary_crossentropy', metrics=['acc'])\n",
    "history = model.fit(x_train, y_train, epochs = 10, batch_size=32, validation_data=(x_val, y_val))\n",
    "model.save_weights('pre_trained_glove_model.h5')"
   ]
  },
  {
   "cell_type": "markdown",
   "id": "863bf1c7-4366-471b-8bd9-2e25400b910d",
   "metadata": {},
   "source": [
    "* 그래프를 보자!"
   ]
  },
  {
   "cell_type": "code",
   "execution_count": 32,
   "id": "f8f699a9-2be7-442c-848b-6b90c6e36d4e",
   "metadata": {},
   "outputs": [
    {
     "data": {
      "image/png": "[encoded data removed]",
      "text/plain": [
       "<Figure size 432x288 with 1 Axes>"
      ]
     },
     "metadata": {
      "needs_background": "light"
     },
     "output_type": "display_data"
    },
    {
     "data": {
      "image/png": "[encoded data removed]",
      "text/plain": [
       "<Figure size 432x288 with 1 Axes>"
      ]
     },
     "metadata": {
      "needs_background": "light"
     },
     "output_type": "display_data"
    }
   ],
   "source": [
    "import matplotlib.pyplot as plt\n",
    "\n",
    "acc= history.history['acc']\n",
    "val_acc = history.history['val_acc']\n",
    "loss= history.history['loss']\n",
    "val_loss = history.history['val_loss']\n",
    "\n",
    "epochs = range(1, len(acc) +1)\n",
    "\n",
    "plt.plot(epochs, acc, 'bo', label='Training acc')\n",
    "plt.plot(epochs, val_acc, 'b', label='Validation acc')\n",
    "plt.title('Accuracy')\n",
    "plt.legend()\n",
    "\n",
    "plt.figure()\n",
    "\n",
    "plt.plot(epochs, loss, 'bo', label='Training loss')\n",
    "plt.plot(epochs, val_loss, 'b', label='Validation loss')\n",
    "plt.title('Loss')\n",
    "plt.legend()\n",
    "\n",
    "plt.show()"
   ]
  },
  {
   "cell_type": "markdown",
   "id": "39a5ae37-b802-40ad-9ab2-fee9408f7cf1",
   "metadata": {},
   "source": [
    "#### 1. 적은 데이터라 과대 적합이 빠르게 일어난다\n",
    "#### 2. 샘플 수가 적어서 고른 데이터에 따라 성능이 달라짐\n",
    "\n",
    "### 정리\n",
    "* 신경망에서 텍스트는 신경망이 처리할 수있는 형태로 변환하고 __케라스 모델에 Embedding 층을 추가__ 해 특정 작업에 특화된 토큰 임베딩을 학습한다.\n",
    "* 데이터가 부족한 자연어 처리 문제에서 __사전 훈련된 단어 임베딩을 사용__ 하여 성능 향상이 가능하다."
   ]
  },
  {
   "cell_type": "code",
   "execution_count": null,
   "id": "3e2eba51-5735-4487-84e3-78a1d625ce0f",
   "metadata": {},
   "outputs": [],
   "source": []
  }
 ],
 "metadata": {
  "kernelspec": {
   "display_name": "Python 3",
   "language": "python",
   "name": "python3"
  },
  "language_info": {
   "codemirror_mode": {
    "name": "ipython",
    "version": 3
   },
   "file_extension": ".py",
   "mimetype": "text/x-python",
   "name": "python",
   "nbconvert_exporter": "python",
   "pygments_lexer": "ipython3",
   "version": "3.8.8"
  }
 },
 "nbformat": 4,
 "nbformat_minor": 5
}
