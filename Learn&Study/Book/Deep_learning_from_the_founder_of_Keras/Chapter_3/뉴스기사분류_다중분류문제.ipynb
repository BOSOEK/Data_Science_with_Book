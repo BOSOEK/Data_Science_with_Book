{
 "cells": [
  {
   "cell_type": "markdown",
   "metadata": {},
   "source": [
    "# 뉴스 기사 분류 : 다중 분류 문제\n",
    "> 로이터 뉴스를 46개의 상호 배타적인 토픽으로 분류하는 신경망을 만든다.\n",
    "* 클래스가 여러개이기 때문이 이 문제는 __다중 분류__ 의 예이다.\n",
    "* 각 데이터 포인트가 정확히 하나의 범주로 분류되기 때문에 좀 더 정확히 말하면 __단일 레이블 다중 분류__ 문제이다.\n",
    "* 각 데이터 포인터가 여러 개의 범주에 속할 수 있다면 이것은 __다중 레이블 다중 분류__ 문제가 된다.\n",
    "***\n",
    "## 1. 로이터 데이터 셋\n",
    "> __로이터 데이터 셋__ : 986년에 로이터에서 공개한 짧은 뉴스 기사와 토픽의 집합\n",
    "\n",
    "* 로이터 데이터 셋은 텍스트 분류를 위해 사용되는 간단한 데이터셋이다.\n",
    "* __46개의 토픽__ 이 있으며 어떤 토픽은 데이터가 많다.\n",
    "* 각 토픽은 훈련 세트에 최소한 10개의 샘플을 가지고 있다.\n",
    "\n",
    "#### 로이터 데이터셋 로드하기"
   ]
  },
  {
   "cell_type": "code",
   "execution_count": 3,
   "metadata": {},
   "outputs": [
    {
     "name": "stdout",
     "output_type": "stream",
     "text": [
      "Downloading data from https://storage.googleapis.com/tensorflow/tf-keras-datasets/reuters.npz\n",
      "2113536/2110848 [==============================] - 1s 0us/step\n"
     ]
    }
   ],
   "source": [
    "from keras.datasets import reuters\n",
    "\n",
    "(train_data, train_labels), (test_data, test_labels) = reuters.load_data(num_words=10000)"
   ]
  },
  {
   "cell_type": "code",
   "execution_count": null,
   "metadata": {},
   "outputs": [],
   "source": []
  }
 ],
 "metadata": {
  "kernelspec": {
   "display_name": "Python 3",
   "language": "python",
   "name": "python3"
  },
  "language_info": {
   "codemirror_mode": {
    "name": "ipython",
    "version": 3
   },
   "file_extension": ".py",
   "mimetype": "text/x-python",
   "name": "python",
   "nbconvert_exporter": "python",
   "pygments_lexer": "ipython3",
   "version": "3.8.3"
  }
 },
 "nbformat": 4,
 "nbformat_minor": 4
}
