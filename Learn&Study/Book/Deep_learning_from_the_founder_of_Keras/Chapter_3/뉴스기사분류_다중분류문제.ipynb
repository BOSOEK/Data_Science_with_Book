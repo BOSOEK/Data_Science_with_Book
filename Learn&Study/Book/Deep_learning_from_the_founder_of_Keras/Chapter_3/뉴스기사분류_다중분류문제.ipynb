{
 "cells": [
  {
   "cell_type": "markdown",
   "metadata": {},
   "source": [
    "# 뉴스 기사 분류 : 다중 분류 문제\n",
    "> 로이터 뉴스를 46개의 상호 배타적인 토픽으로 분류하는 신경망을 만든다.\n",
    "* 클래스가 여러개이기 때문이 이 문제는 __다중 분류__ 의 예이다.\n",
    "* 각 데이터 포인트가 정확히 하나의 범주로 분류되기 때문에 좀 더 정확히 말하면 __단일 레이블 다중 분류__ 문제이다.\n",
    "* 각 데이터 포인터가 여러 개의 범주에 속할 수 있다면 이것은 __다중 레이블 다중 분류__ 문제가 된다.\n",
    "***\n",
    "## 1. 로이터 데이터 셋\n",
    "> __로이터 데이터 셋__ : 986년에 로이터에서 공개한 짧은 뉴스 기사와 토픽의 집합\n",
    "\n",
    "* 로이터 데이터 셋은 텍스트 분류를 위해 사용되는 간단한 데이터셋이다.\n",
    "* __46개의 토픽__ 이 있으며 어떤 토픽은 데이터가 많다.\n",
    "* 각 토픽은 훈련 세트에 최소한 10개의 샘플을 가지고 있다.\n",
    "\n",
    "#### 로이터 데이터셋 로드하기"
   ]
  },
  {
   "cell_type": "code",
   "execution_count": 1,
   "metadata": {},
   "outputs": [],
   "source": [
    "from keras.datasets import reuters\n",
    "\n",
    "(train_data, train_labels), (test_data, test_labels) = reuters.load_data(num_words=10000) # 가장 많이 사용하는 데이터 10000개"
   ]
  },
  {
   "cell_type": "code",
   "execution_count": 4,
   "metadata": {},
   "outputs": [
    {
     "name": "stdout",
     "output_type": "stream",
     "text": [
      "Train_data : 8982\n",
      "Test_data : 2246\n"
     ]
    }
   ],
   "source": [
    "print('Train_data : ' + str(len(train_data)))\n",
    "print('Test_data : ' + str(len(test_data)))"
   ]
  },
  {
   "cell_type": "code",
   "execution_count": 5,
   "metadata": {},
   "outputs": [
    {
     "name": "stdout",
     "output_type": "stream",
     "text": [
      "[1, 245, 273, 207, 156, 53, 74, 160, 26, 14, 46, 296, 26, 39, 74, 2979, 3554, 14, 46, 4689, 4329, 86, 61, 3499, 4795, 14, 61, 451, 4329, 17, 12]\n"
     ]
    }
   ],
   "source": [
    "print(train_data[10])"
   ]
  },
  {
   "cell_type": "markdown",
   "metadata": {},
   "source": [
    "## 2. 데이터 준비\n",
    "* 데이터 인코딩 하기"
   ]
  },
  {
   "cell_type": "code",
   "execution_count": 6,
   "metadata": {},
   "outputs": [],
   "source": [
    "import numpy as np\n",
    "\n",
    "def vectorize_sequences(sequences, dimension=10000) :\n",
    "    results = np.zeros((len(sequences), dimension))\n",
    "    for i, sequence in enumerate(sequences) :\n",
    "        results[i, sequence] = 1.\n",
    "    return results\n",
    "\n",
    "x_train = vectorize_sequences(train_data)    # 훈련 데이터 벡터 변환\n",
    "x_test = vectorize_sequences(test_data)      # 테스트 데이터 벡터 변환"
   ]
  },
  {
   "cell_type": "markdown",
   "metadata": {},
   "source": [
    "* 레이블을 벡터로 변환 : 원-핫 인코딩으로 변환"
   ]
  },
  {
   "cell_type": "code",
   "execution_count": 7,
   "metadata": {},
   "outputs": [],
   "source": [
    "from keras.utils.np_utils import to_categorical\n",
    "\n",
    "one_hot_train_labels = to_categorical(train_labels)\n",
    "one_hot_test_labels = to_categorical(test_labels)"
   ]
  },
  {
   "cell_type": "markdown",
   "metadata": {},
   "source": [
    "## 3. 모델 구성\n",
    "> 토픽 분류 문제는 이전의 영화 리뷰 문제와 비슷하지만 출력 클래스가 46개인 만큼 Dense 층을 __64개의 유닛__ 을 사용한다"
   ]
  },
  {
   "cell_type": "code",
   "execution_count": 9,
   "metadata": {},
   "outputs": [],
   "source": [
    "from keras import models\n",
    "from keras import layers\n",
    "\n",
    "model = models.Sequential()\n",
    "model.add(layers.Dense(64, activation='relu', input_shape=(10000,)))\n",
    "model.add(layers.Dense(64, activation='relu'))\n",
    "model.add(layers.Dense(46, activation='softmax'))"
   ]
  },
  {
   "cell_type": "markdown",
   "metadata": {},
   "source": [
    "> 이 문제에 최선의 손실 함수는 __categorical_crossentropy__ 이다.\n",
    "\n",
    "* __categorical_crossentropy : 두 확률 분포 사이의 거리를 측정한다.__\n",
    "\n",
    "> 여기서는 네트워크가 출력한 확률 분포와 진짜 레이블의 분포 사이의 거리이다. \n",
    "\n",
    "> __두 분포 사이의 거리 최소화가 레이블에 가까운 출력을 내도록 모델을 훈련한다.__\n",
    "\n",
    "* __모델 컴파일__"
   ]
  },
  {
   "cell_type": "code",
   "execution_count": 10,
   "metadata": {},
   "outputs": [],
   "source": [
    "model.compile(optimizer='rmsprop',\n",
    "             loss='categorical_crossentropy',\n",
    "             metrics=['accuracy'])"
   ]
  },
  {
   "cell_type": "markdown",
   "metadata": {},
   "source": [
    "## 4. 훈련 검증\n",
    "> 훈련 데이터에서 1000개의 샘플을 떼서 검증 세트로 사용한다.\n",
    "\n",
    "* 검증 세트 준비하기"
   ]
  },
  {
   "cell_type": "code",
   "execution_count": 11,
   "metadata": {},
   "outputs": [],
   "source": [
    "x_val = x_train[:1000] #검증\n",
    "partial_x_train = x_train[1000:] # 훈련\n",
    " \n",
    "y_val = one_hot_train_labels[:1000] # 검증\n",
    "partial_y_train = one_hot_train_labels[1000:] # 훈련"
   ]
  },
  {
   "cell_type": "markdown",
   "metadata": {},
   "source": [
    "* 20번의 에포크로 모델 훈련시키기"
   ]
  },
  {
   "cell_type": "code",
   "execution_count": 12,
   "metadata": {},
   "outputs": [
    {
     "name": "stdout",
     "output_type": "stream",
     "text": [
      "Epoch 1/20\n",
      "16/16 [==============================] - 1s 57ms/step - loss: 2.6017 - accuracy: 0.5451 - val_loss: 1.7525 - val_accuracy: 0.6350\n",
      "Epoch 2/20\n",
      "16/16 [==============================] - 1s 39ms/step - loss: 1.4460 - accuracy: 0.6968 - val_loss: 1.3183 - val_accuracy: 0.7130\n",
      "Epoch 3/20\n",
      "16/16 [==============================] - 1s 44ms/step - loss: 1.0660 - accuracy: 0.7770 - val_loss: 1.1715 - val_accuracy: 0.7550\n",
      "Epoch 4/20\n",
      "16/16 [==============================] - 1s 41ms/step - loss: 0.8370 - accuracy: 0.8255 - val_loss: 1.0433 - val_accuracy: 0.7750\n",
      "Epoch 5/20\n",
      "16/16 [==============================] - 1s 41ms/step - loss: 0.6620 - accuracy: 0.8658 - val_loss: 0.9577 - val_accuracy: 0.8040\n",
      "Epoch 6/20\n",
      "16/16 [==============================] - 1s 56ms/step - loss: 0.5262 - accuracy: 0.8914 - val_loss: 0.9217 - val_accuracy: 0.8120\n",
      "Epoch 7/20\n",
      "16/16 [==============================] - 1s 40ms/step - loss: 0.4296 - accuracy: 0.9100 - val_loss: 0.8864 - val_accuracy: 0.8160\n",
      "Epoch 8/20\n",
      "16/16 [==============================] - 1s 40ms/step - loss: 0.3470 - accuracy: 0.9258 - val_loss: 0.9065 - val_accuracy: 0.8000\n",
      "Epoch 9/20\n",
      "16/16 [==============================] - 1s 42ms/step - loss: 0.2881 - accuracy: 0.9361 - val_loss: 0.8794 - val_accuracy: 0.8150\n",
      "Epoch 10/20\n",
      "16/16 [==============================] - 1s 42ms/step - loss: 0.2473 - accuracy: 0.9454 - val_loss: 0.8826 - val_accuracy: 0.8170\n",
      "Epoch 11/20\n",
      "16/16 [==============================] - 1s 40ms/step - loss: 0.2107 - accuracy: 0.9488 - val_loss: 0.9176 - val_accuracy: 0.8150\n",
      "Epoch 12/20\n",
      "16/16 [==============================] - 1s 40ms/step - loss: 0.1839 - accuracy: 0.9524 - val_loss: 0.9242 - val_accuracy: 0.8090\n",
      "Epoch 13/20\n",
      "16/16 [==============================] - 1s 44ms/step - loss: 0.1661 - accuracy: 0.9519 - val_loss: 0.9434 - val_accuracy: 0.8030\n",
      "Epoch 14/20\n",
      "16/16 [==============================] - 1s 38ms/step - loss: 0.1509 - accuracy: 0.9555 - val_loss: 1.0057 - val_accuracy: 0.7960\n",
      "Epoch 15/20\n",
      "16/16 [==============================] - 1s 40ms/step - loss: 0.1426 - accuracy: 0.9551 - val_loss: 0.9835 - val_accuracy: 0.8080\n",
      "Epoch 16/20\n",
      "16/16 [==============================] - 1s 41ms/step - loss: 0.1323 - accuracy: 0.9550 - val_loss: 0.9638 - val_accuracy: 0.8170\n",
      "Epoch 17/20\n",
      "16/16 [==============================] - 1s 40ms/step - loss: 0.1217 - accuracy: 0.9572 - val_loss: 0.9971 - val_accuracy: 0.8090\n",
      "Epoch 18/20\n",
      "16/16 [==============================] - 1s 40ms/step - loss: 0.1219 - accuracy: 0.9567 - val_loss: 1.0247 - val_accuracy: 0.8120\n",
      "Epoch 19/20\n",
      "16/16 [==============================] - 1s 41ms/step - loss: 0.1180 - accuracy: 0.9555 - val_loss: 1.0642 - val_accuracy: 0.8110\n",
      "Epoch 20/20\n",
      "16/16 [==============================] - 1s 34ms/step - loss: 0.1090 - accuracy: 0.9580 - val_loss: 1.0378 - val_accuracy: 0.8120\n"
     ]
    }
   ],
   "source": [
    "history = model.fit(partial_x_train,\n",
    "                   partial_y_train,\n",
    "                   epochs=20,\n",
    "                   batch_size=512,\n",
    "                   validation_data=(x_val, y_val))"
   ]
  },
  {
   "cell_type": "markdown",
   "metadata": {},
   "source": [
    "* ### 손실과 정확도 곡선 그리기"
   ]
  },
  {
   "cell_type": "code",
   "execution_count": 19,
   "metadata": {},
   "outputs": [
    {
     "data": {
      "image/png": "[encoded data removed]",
      "text/plain": [
       "<Figure size 432x288 with 1 Axes>"
      ]
     },
     "metadata": {
      "needs_background": "light"
     },
     "output_type": "display_data"
    }
   ],
   "source": [
    "import matplotlib.pyplot as plt\n",
    "\n",
    "loss = history.history['loss']\n",
    "val_loss = history.history['val_loss']\n",
    "\n",
    "epochs = range(1, len(loss) + 1)\n",
    "\n",
    "plt.plot(epochs, loss, 'bo', label = 'Training loss')\n",
    "plt.plot(epochs, val_loss, 'b', label='Validation loss')\n",
    "plt.title('Training and validation loss')\n",
    "plt.xlabel('Epochs')\n",
    "plt.ylabel('Loss')\n",
    "plt.legend()\n",
    "\n",
    "plt.show()"
   ]
  },
  {
   "cell_type": "markdown",
   "metadata": {},
   "source": [
    "* ### 훈련과 검증 정확도 그리기"
   ]
  },
  {
   "cell_type": "code",
   "execution_count": 34,
   "metadata": {},
   "outputs": [
    {
     "data": {
      "image/png": "[encoded data removed]",
      "text/plain": [
       "<Figure size 432x288 with 1 Axes>"
      ]
     },
     "metadata": {
      "needs_background": "light"
     },
     "output_type": "display_data"
    }
   ],
   "source": [
    "plt.clf()  # 그래프 초기화\n",
    "\n",
    "acc = history.history['accuracy']\n",
    "val_acc = history.history['val_accuracy']\n",
    "\n",
    "plt.plot(epochs, acc, 'bo', label = 'Training acc')\n",
    "plt.plot(epochs, val_acc, 'b', label='Validation acc')\n",
    "plt.title('Training and validation accuracy')\n",
    "plt.xlabel('Epochs')\n",
    "plt.ylabel('Accuracy')\n",
    "plt.legend()\n",
    "\n",
    "plt.show()"
   ]
  },
  {
   "cell_type": "markdown",
   "metadata": {},
   "source": [
    "> 모델이 아홉 번째 에포크 이후 과대적합 된다.\n",
    "\n",
    "* ### 아홉 번의 에포크로 새로운 모델 훈련하기"
   ]
  },
  {
   "cell_type": "code",
   "execution_count": 37,
   "metadata": {},
   "outputs": [
    {
     "name": "stdout",
     "output_type": "stream",
     "text": [
      "Epoch 1/9\n",
      "16/16 [==============================] - 1s 56ms/step - loss: 2.5911 - accuracy: 0.5231 - val_loss: 1.6780 - val_accuracy: 0.6350\n",
      "Epoch 2/9\n",
      "16/16 [==============================] - 1s 41ms/step - loss: 1.3965 - accuracy: 0.7052 - val_loss: 1.3009 - val_accuracy: 0.7170\n",
      "Epoch 3/9\n",
      "16/16 [==============================] - 1s 43ms/step - loss: 1.0468 - accuracy: 0.7745 - val_loss: 1.1399 - val_accuracy: 0.7600\n",
      "Epoch 4/9\n",
      "16/16 [==============================] - 1s 41ms/step - loss: 0.8321 - accuracy: 0.8198 - val_loss: 1.0367 - val_accuracy: 0.7790\n",
      "Epoch 5/9\n",
      "16/16 [==============================] - 1s 41ms/step - loss: 0.6669 - accuracy: 0.8577 - val_loss: 0.9779 - val_accuracy: 0.7960\n",
      "Epoch 6/9\n",
      "16/16 [==============================] - 1s 42ms/step - loss: 0.5349 - accuracy: 0.8870 - val_loss: 0.9513 - val_accuracy: 0.7920\n",
      "Epoch 7/9\n",
      "16/16 [==============================] - 1s 41ms/step - loss: 0.4348 - accuracy: 0.9073 - val_loss: 0.9243 - val_accuracy: 0.8100\n",
      "Epoch 8/9\n",
      "16/16 [==============================] - 1s 41ms/step - loss: 0.3520 - accuracy: 0.9271 - val_loss: 0.9129 - val_accuracy: 0.8130\n",
      "Epoch 9/9\n",
      "16/16 [==============================] - 1s 34ms/step - loss: 0.2901 - accuracy: 0.9370 - val_loss: 0.9250 - val_accuracy: 0.8130\n",
      "71/71 [==============================] - 0s 3ms/step - loss: 1.0003 - accuracy: 0.7872\n"
     ]
    }
   ],
   "source": [
    "model = models.Sequential()\n",
    "model.add(layers.Dense(64, activation='relu', input_shape=(10000,)))\n",
    "model.add(layers.Dense(64, activation='relu'))\n",
    "model.add(layers.Dense(46, activation='softmax'))\n",
    "\n",
    "model.compile(optimizer='rmsprop',\n",
    "             loss='categorical_crossentropy',\n",
    "             metrics=['accuracy'])\n",
    "\n",
    "model.fit(partial_x_train,\n",
    "   partial_y_train,\n",
    "   epochs=9,\n",
    "   batch_size=512,\n",
    "   validation_data=(x_val, y_val))\n",
    "\n",
    "result = model.evaluate(x_test, one_hot_test_labels)"
   ]
  },
  {
   "cell_type": "code",
   "execution_count": 38,
   "metadata": {},
   "outputs": [
    {
     "name": "stdout",
     "output_type": "stream",
     "text": [
      "[1.0003334283828735, 0.7871772050857544]\n"
     ]
    }
   ],
   "source": [
    "print(result)"
   ]
  },
  {
   "cell_type": "markdown",
   "metadata": {},
   "source": [
    "## 5. 새로운 데이터에 대해 에측하기"
   ]
  },
  {
   "cell_type": "code",
   "execution_count": 39,
   "metadata": {},
   "outputs": [],
   "source": [
    "predictions = model.predict(x_test)"
   ]
  },
  {
   "cell_type": "code",
   "execution_count": 41,
   "metadata": {},
   "outputs": [
    {
     "name": "stdout",
     "output_type": "stream",
     "text": [
      "3\n"
     ]
    }
   ],
   "source": [
    "print(np.argmax(predictions[0]))"
   ]
  },
  {
   "cell_type": "markdown",
   "metadata": {},
   "source": [
    "## 6. 레이블과 손실을 다루는 다른 방법\n",
    "   > 레이블을 인코딩 하는 다른 방법은 정수 텐서로 변환하는 것이다.\n",
    "   \n",
    "   ```\n",
    "   y_train = np.array(train_labels)\n",
    "   y_test = np.array(test_labels)\n",
    "   ```\n",
    "   > 위 방식을 사용할 때 손실 함수로 ```categorical_crossentropy``` 는 레이블이 범주형 인코딩이기 때문에 정수 레이블을 사용할 때는 __sparse_categorical_crossentropy__ 를 사용해야 한다\n",
    "   \n",
    "   ```\n",
    "   model.compile(optimizer='rmsprop',\n",
    "               loss='sparse_categorical_crossentropy',\n",
    "               metrics=['acc'])\n",
    "   ```\n",
    "   > 이 손실 함수는 수학적으로 ```categorical_crossentropy``` 와 동일하다."
   ]
  },
  {
   "cell_type": "markdown",
   "metadata": {},
   "source": [
    "## 7. 충분한 중간층을 두어야 하는 이유\n",
    "   * 중간층을 줄이면 중간층이 저차원 표현 공간으로 압축되고 이러면 __네트워크가 필요한 정보를 전부 넣지 못하기 때문에__ 충분한 중간층을 두어야 한다."
   ]
  },
  {
   "cell_type": "markdown",
   "metadata": {},
   "source": [
    "## 8. 정리\n",
    "* N개의 클래스로 데이터 포인트를 분류하려면 네트워크 __마지막 Dense 층의 크기는 N__ 이어야 한다\n",
    "* 단일 레이블, 다중 분류 문제에서는 __N개의 클래스에 대한 확률 분포__ 를 출력하기 위해 ```softmax``` 활성화 함수를 사용해야 한다\n",
    "* 이런 다중분류(단일 레이블 다중 분류)에서는 크로스엔트로피를 사용해야 한다. 크로스 엔트로피는 __모델이 출력한 활률 분포와 타깃 분포 사이의 거리를 최소화한다.__\n",
    "* 다중 분류에서 레이블을 다루는 두 가지 방법이 있다.\n",
    "    * 레이블을 범주형 인코딩(원-핫-인코딩)으로 인코딩 후 ```categorical_crossentropy``` 손실 함수를 사용.\n",
    "    * 레이블을 정수로 인코딩 후 ```sparse-categorical-crossentropy``` 손실 함수를 사용한다.\n",
    "* 많은 범주를 분류할 때는 중간층의 크기가 너무 작아 __네트워크에 정보의 병목__ 이 생기지 않아야 한다."
   ]
  }
 ],
 "metadata": {
  "kernelspec": {
   "display_name": "Python 3",
   "language": "python",
   "name": "python3"
  },
  "language_info": {
   "codemirror_mode": {
    "name": "ipython",
    "version": 3
   },
   "file_extension": ".py",
   "mimetype": "text/x-python",
   "name": "python",
   "nbconvert_exporter": "python",
   "pygments_lexer": "ipython3",
   "version": "3.8.3"
  }
 },
 "nbformat": 4,
 "nbformat_minor": 4
}
