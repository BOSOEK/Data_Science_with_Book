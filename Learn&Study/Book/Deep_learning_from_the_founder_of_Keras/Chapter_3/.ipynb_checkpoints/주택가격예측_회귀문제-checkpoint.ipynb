{
 "cells": [
  {
   "cell_type": "markdown",
   "metadata": {},
   "source": [
    "# 주택 가격 예측 : 회귀 문제\n",
    "* 회귀(연속적인 값을 예측)로 보스턴 주택 가격 예측하기\n",
    "> __로지스틱 회귀__ 는 선형회귀의 분류 버전이다(회귀가 아니다)"
   ]
  },
  {
   "cell_type": "markdown",
   "metadata": {},
   "source": [
    "## 1. 보스턴 주택 가격 데이터 셋\n",
    "   > 1970년대 보스턴 지역의 범죄율, 지방세율 등의 데이터로 주택 가격의 중간 값 예측하기.\n",
    "    \n",
    "   * 데이터 포인트 : 506개\n",
    "   * 훈련 샘플 : 404개\n",
    "   * 테스트 샘플 : 102개\n",
    "   * 입력 데이터의 __feature(특성)__ 의 스케일이 서로 다르다.\n",
    "   \n",
    "   * ### 보스턴 주택 데이터셋 로드하기"
   ]
  },
  {
   "cell_type": "code",
   "execution_count": 1,
   "metadata": {},
   "outputs": [],
   "source": [
    "from keras.datasets import boston_housing\n",
    "\n",
    "(train_data, train_targets), (test_data, test_targets) = boston_housing.load_data()"
   ]
  },
  {
   "cell_type": "code",
   "execution_count": 2,
   "metadata": {},
   "outputs": [
    {
     "name": "stdout",
     "output_type": "stream",
     "text": [
      "(404, 13)\n",
      "(102, 13)\n"
     ]
    }
   ],
   "source": [
    "print(train_data.shape)\n",
    "print(test_data.shape)"
   ]
  },
  {
   "cell_type": "markdown",
   "metadata": {},
   "source": [
    "## 2. 데이터 준비\n",
    "   > 상이한 스케일을 가진 값을 신경망에 주입하면 학습이 힘들어 지기에 데이터를 특성별로 정규화(표준화) 해야 한다.\n",
    "   \n",
    "   > 입력 데이터에 있는 각 특성(입력 데이터 행렬의 열)에 대해 특성의 평균을 빼고 표준 편차로 나눈다.(특성 중앙이 0 근처가 되고, 표준 편차가 1이 된다.\n",
    "   \n",
    "   * 넘파이로 데이터 정규화 하기\n",
    "   > __머신러닝 작업 과정에서는 어떤 과정에서도 테스트 데이터의 값을 사용해서는 안된다. 데이터 정규화도 마찬가지다.__"
   ]
  },
  {
   "cell_type": "code",
   "execution_count": 3,
   "metadata": {},
   "outputs": [],
   "source": [
    "mean = train_data.mean(axis=0)\n",
    "train_data -= mean\n",
    "std = train_data.std(axis=0)\n",
    "train_data /= std\n",
    "\n",
    "test_data -= mean\n",
    "test_data /= std"
   ]
  },
  {
   "cell_type": "markdown",
   "metadata": {},
   "source": [
    "## 3. 모델 구성\n",
    "   > 샘플 수가 적기에 64개 유닛의 2개 은닉층으로 네트워크를 구성한다.\n",
    "   \n",
    "   > __훈련 데이터의 개수가 적을 수록 과대적합이 쉽게 일어나기에 작은 모델을 사용하는 것이 과대적합을 피하기 쉽다.__\n",
    "   \n",
    "   * 모델 정의하기"
   ]
  },
  {
   "cell_type": "code",
   "execution_count": 4,
   "metadata": {},
   "outputs": [],
   "source": [
    "from keras import models\n",
    "from keras import layers\n",
    "\n",
    "def build_model() :\n",
    "    model = models.Sequential()\n",
    "    model.add(layers.Dense(64, activation='relu', input_shape=(train_data.shape[1],)))\n",
    "    model.add(layers.Dense(64, activation='relu'))\n",
    "    model.add(layers.Dense(1))\n",
    "    model.compile(optimizer='rmsprop', loss='mse', metrics=['mae'])\n",
    "    return model"
   ]
  },
  {
   "cell_type": "markdown",
   "metadata": {},
   "source": [
    "   > 이 네트워크의 마지막 층은 __하나의 유닛을 가지고 있고 활성화 함수가 없다.(선형 층)__ \n",
    "   \n",
    "   > __이것이 전형적인 스칼라 회귀(하나의 연속적인 값을 예측하는 회귀)를 위한 구성이다.__\n",
    "   \n",
    "   * __이 모델은 회귀문제에서 널리 사용되는 손실 함수인 평균 제곱 오차(MSE - 예측과 타깃 사이 거리 제곱의 절댓값)를 사용했다.__"
   ]
  },
  {
   "cell_type": "markdown",
   "metadata": {},
   "source": [
    "## 4. K-겹 검증을 사용한 훈련 검증\n",
    "   > (훈련에 사용할 에포크 수와 같은) 매개변수들을 조정하며 모델을 평가하기 위해 이전 예제에서 했던 __데이터를 훈련 세트와 검증 세트로 나눈다.__  \n",
    "   하지만 데이터 포인트가 많지 않아서 선택된 데이터 포인트에 따라 검증 점수가 달라지고, __결국 신뢰 있는 모델 평가를 할 수 없다.__\n",
    "   \n",
    "   > 이런 상황에서 유용한게 __K-겹 교차 검증__ 이다. __데이터를 K개의 분할(폴드)로 나누고 K개의 모델을 만들어 각각의 분할에서 훈련 후 나머지 분할에서 평가하는 방법으로 모델 검증 점수는 K개의 검증 점수 평균이 된다.__\n",
    "   \n",
    "   * K - 겹 검증하기"
   ]
  },
  {
   "cell_type": "code",
   "execution_count": 5,
   "metadata": {},
   "outputs": [
    {
     "name": "stdout",
     "output_type": "stream",
     "text": [
      "처리중인 폴드 #  0\n",
      "처리중인 폴드 #  1\n",
      "처리중인 폴드 #  2\n",
      "처리중인 폴드 #  3\n"
     ]
    }
   ],
   "source": [
    "import numpy as np\n",
    "\n",
    "k = 4\n",
    "num_val_samples = len(train_data)  //k\n",
    "num_epochs = 100\n",
    "all_scores = []\n",
    "\n",
    "for i in range(k) :\n",
    "    print('처리중인 폴드 # ', i)\n",
    "    val_data = train_data[i* num_val_samples : (i+1) * num_val_samples]\n",
    "    val_targets = train_targets[i * num_val_samples : (i+1) * num_val_samples]\n",
    "    \n",
    "    partial_train_data = np.concatenate(\n",
    "        [train_data[:i * num_val_samples],\n",
    "        train_data[(i+1) * num_val_samples:]],\n",
    "        axis=0)\n",
    "    \n",
    "    partial_train_targets = np.concatenate(\n",
    "        [train_targets[:i * num_val_samples],\n",
    "        train_targets[(i+1) * num_val_samples:]],\n",
    "        axis=0)\n",
    "    \n",
    "    model = build_model()\n",
    "    model.fit(partial_train_data, partial_train_targets,\n",
    "             epochs=num_epochs, batch_size=1, verbose=0)\n",
    "    val_mse, val_mae = model.evaluate(val_data, val_targets, verbose=0)\n",
    "    all_scores.append(val_mae)"
   ]
  },
  {
   "cell_type": "code",
   "execution_count": 6,
   "metadata": {},
   "outputs": [
    {
     "name": "stdout",
     "output_type": "stream",
     "text": [
      "all_scores :  [2.272183418273926, 2.3588151931762695, 2.863872766494751, 2.44244384765625]\n",
      "np.mean(all_scores) :  2.484328806400299\n"
     ]
    }
   ],
   "source": [
    "print('all_scores : ', all_scores)\n",
    "print('np.mean(all_scores) : ', np.mean(all_scores))"
   ]
  },
  {
   "cell_type": "markdown",
   "metadata": {},
   "source": [
    "> 검증 세트가 달라서 검증 점수의 변화가 크다. __평균값이 더 신뢰적입니다.(K-겹 교차 검증의 핵심)__\n",
    "\n",
    "* 신경망을 500포크동안 훈련하여 개선되는지 기록을 위해 에포크의 검증 점수를 로그에 저장"
   ]
  },
  {
   "cell_type": "code",
   "execution_count": 7,
   "metadata": {},
   "outputs": [
    {
     "name": "stdout",
     "output_type": "stream",
     "text": [
      "처리중인 폴드 # 0\n",
      "처리중인 폴드 # 1\n",
      "처리중인 폴드 # 2\n",
      "처리중인 폴드 # 3\n"
     ]
    }
   ],
   "source": [
    "num_epochs = 500\n",
    "all_mae_histories = []\n",
    "for i in range(k) :\n",
    "    print('처리중인 폴드 #', i)\n",
    "    val_data = train_data[i * num_val_samples: (i + 1) * num_val_samples]\n",
    "    val_targets = train_targets[i * num_val_samples : (i + 1) * num_val_samples]\n",
    "    \n",
    "    partial_train_data = np.concatenate(\n",
    "        [train_data[:i * num_val_samples],\n",
    "        train_data[(i + 1) * num_val_samples:]], axis=0)\n",
    "    \n",
    "    partial_train_targets = np.concatenate(\n",
    "        [train_targets[:i * num_val_samples],\n",
    "        train_targets[(i + 1) * num_val_samples:]],\n",
    "    axis=0)\n",
    "    \n",
    "    model = build_model()\n",
    "    history = model.fit(partial_train_data, partial_train_targets,\n",
    "                       validation_data=(val_data, val_targets),\n",
    "                       epochs = num_epochs, batch_size=1, verbose=0)\n",
    "    mae_history = history.history['val_mae']\n",
    "    all_mae_histories.append(mae_history)\n",
    "    "
   ]
  },
  {
   "cell_type": "markdown",
   "metadata": {},
   "source": [
    "* 모든 폴드에 대해 에포크의 MAE 점수 평균을 계산후 그래프로 출력"
   ]
  },
  {
   "cell_type": "code",
   "execution_count": 8,
   "metadata": {},
   "outputs": [
    {
     "data": {
      "image/png": "[encoded data removed]",
      "text/plain": [
       "<Figure size 432x288 with 1 Axes>"
      ]
     },
     "metadata": {
      "needs_background": "light"
     },
     "output_type": "display_data"
    }
   ],
   "source": [
    "average_mae_history = [\n",
    "    np.mean([x[i] for x in all_mae_histories]) for i in range(num_epochs)]\n",
    "\n",
    "import matplotlib.pyplot as plt\n",
    "\n",
    "plt.plot(range(1, len(average_mae_history) +1), average_mae_history)\n",
    "plt.xlabel('Epochs')\n",
    "plt.ylabel('Validation MAE')\n",
    "plt.show()"
   ]
  },
  {
   "cell_type": "markdown",
   "metadata": {},
   "source": [
    "> 그래프가 범위가 크고 변동이 심하여 다음처럼 바꾼다.\n",
    "\n",
    "   * 곡선의 다른 부분과 스케일이 많이 다른 첫 10개의 __데이터 포인트를 제외시킨다.__\n",
    "   * 부드러운 곡선을 위해 각 포인트를 이전 포인트의 __지수 이동 평균(시계열 데이터를 부드럽게 만드는 기법중 하나)__ 으로 대체한다.\n",
    "\n",
    "* 처음 10개의 데이터 포인트를 제외한 검증 점수 그리기"
   ]
  },
  {
   "cell_type": "code",
   "execution_count": 9,
   "metadata": {},
   "outputs": [
    {
     "data": {
      "image/png": "[encoded data removed]",
      "text/plain": [
       "<Figure size 432x288 with 1 Axes>"
      ]
     },
     "metadata": {
      "needs_background": "light"
     },
     "output_type": "display_data"
    }
   ],
   "source": [
    "def smooth_curve(points, factor=0.9) :\n",
    "    smoothed_points = []\n",
    "    for point in points :\n",
    "        if smoothed_points:\n",
    "            previous = smoothed_points[-1]\n",
    "            smoothed_points.append(previous * factor + point * (1 - factor))\n",
    "        else :\n",
    "            smoothed_points.append(point)\n",
    "    return smoothed_points\n",
    "\n",
    "smooth_mae_history = smooth_curve(average_mae_history[10:])\n",
    "\n",
    "plt.plot(range(1, len(smooth_mae_history) + 1), smooth_mae_history)\n",
    "plt.xlabel('Epochs')\n",
    "plt.ylabel('Validation MAE')\n",
    "plt.show()"
   ]
  },
  {
   "cell_type": "markdown",
   "metadata": {},
   "source": [
    "> 그래프가 약 80번째 에포크 이후에 증가한다(여기부터 과대적합)\n",
    "\n",
    "* __최종 모델 훈련하기__"
   ]
  },
  {
   "cell_type": "code",
   "execution_count": 10,
   "metadata": {},
   "outputs": [
    {
     "name": "stdout",
     "output_type": "stream",
     "text": [
      "4/4 [==============================] - 0s 3ms/step - loss: 17.9564 - mae: 2.7319\n"
     ]
    }
   ],
   "source": [
    "model = build_model() # 새롭게 컴파일된 모델 얻기\n",
    "model.fit(train_data, train_targets,\n",
    "         epochs = 80, batch_size=16, verbose=0)\n",
    "test_mse_score, test_mae_score = model.evaluate(test_data, test_targets)"
   ]
  },
  {
   "cell_type": "code",
   "execution_count": 11,
   "metadata": {},
   "outputs": [
    {
     "name": "stdout",
     "output_type": "stream",
     "text": [
      "2.731935739517212\n"
     ]
    }
   ],
   "source": [
    "print(test_mae_score)"
   ]
  },
  {
   "cell_type": "markdown",
   "metadata": {},
   "source": [
    "__평균적으로 2.731달러 차이가 난다__"
   ]
  },
  {
   "cell_type": "markdown",
   "metadata": {},
   "source": [
    "## 5. 정리\n",
    "   * __회귀와 분류는 다른 손실함수를 사용__ 하며 __평균 제곱 오차(MSE)__ 는 회귀에서 자주 사용되는 손실 함수이다.\n",
    "   * 회귀에서 사용하는 평가 지표는 분류와 다르다. 정확도 개념은 회귀에 적용되지 않고 일반적인 __회귀 지표는 평균 절대 오차(MAE)__ 이다.\n",
    "   * 입력 데이터 특성(feature)이 서로 다른 범위(스케일)를 가지면 전처리 단계에서 __특성을 개별적으로 스케일 조정해야한다__\n",
    "   * 사용 데이터가 적다면 __K-겹 검증__ 이 신뢰할 수 있는 모델 평가 방법이다.\n",
    "   * 사용한 훈련 데이터가 적다면 __과대 적합을 피하기 위해 은닉 층 수를 줄인 모델__ 이 더 좋다.(일반적으로 1개 or 2개)"
   ]
  }
 ],
 "metadata": {
  "kernelspec": {
   "display_name": "Python 3",
   "language": "python",
   "name": "python3"
  },
  "language_info": {
   "codemirror_mode": {
    "name": "ipython",
    "version": 3
   },
   "file_extension": ".py",
   "mimetype": "text/x-python",
   "name": "python",
   "nbconvert_exporter": "python",
   "pygments_lexer": "ipython3",
   "version": "3.8.3"
  }
 },
 "nbformat": 4,
 "nbformat_minor": 4
}
