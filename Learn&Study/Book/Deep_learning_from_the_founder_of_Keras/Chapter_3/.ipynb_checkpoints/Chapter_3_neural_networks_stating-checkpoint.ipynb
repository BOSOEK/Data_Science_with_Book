{
 "cells": [
  {
   "cell_type": "markdown",
   "metadata": {},
   "source": [
    "# 3장. 신경망 시작하기\n",
    "> 이 장에서는 층, 네트워크, 목적함수, 옵티마이저 같은 신경망의 핵심 구성 요소들을 자세히 살펴보고 이진 분류, 다중 분류, 스칼라 값을 예측하는 회귀 문제를 푼다\n",
    "## 1. 신경망의 구조\n",
    "* ### 네트워크(또는 모델)를 구성하는 층 : 딥러닝의 구성 단위 \n",
    "\n",
    "> 하나 이상의 텐서를 입력받아 하나 이상의 텐서를 출력하는 데이터 처리 모듈로, 가중치(확률적 경사 하강법에 의해 학습되는 하나 이상의 텐서로 네트워크가 학습한 __지식__이 담김)를 가진다.\n",
    "\n",
    "> 층별로 적절한 텐서 포맷 & 데이터 처리 방식이 다르다.   \n",
    "* 벡터 데이터(2D 텐서) : 완전 연결층, 밀집 층 등의 밀집 연결층(케라스의 Dense 클래스)\n",
    "\n"
   ]
  },
  {
   "cell_type": "code",
   "execution_count": null,
   "metadata": {},
   "outputs": [],
   "source": []
  },
  {
   "cell_type": "code",
   "execution_count": null,
   "metadata": {},
   "outputs": [],
   "source": [
    "\n",
    "* ### 입력 데이터와 그에 상응하는 타깃\n",
    "* ### 학습에 사용할 피드백 신호를 정의하는 손실 함수\n",
    "* ### 학습 진행 방식을 결정하는 옵티마이저"
   ]
  }
 ],
 "metadata": {
  "kernelspec": {
   "display_name": "Python 3",
   "language": "python",
   "name": "python3"
  },
  "language_info": {
   "codemirror_mode": {
    "name": "ipython",
    "version": 3
   },
   "file_extension": ".py",
   "mimetype": "text/x-python",
   "name": "python",
   "nbconvert_exporter": "python",
   "pygments_lexer": "ipython3",
   "version": "3.8.3"
  }
 },
 "nbformat": 4,
 "nbformat_minor": 4
}
