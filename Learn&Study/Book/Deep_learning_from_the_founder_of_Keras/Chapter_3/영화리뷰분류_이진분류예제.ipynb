{
 "cells": [
  {
   "cell_type": "markdown",
   "metadata": {},
   "source": [
    "# 영화 리뷰 분류 : 이진 분류 예제\n",
    "* IMDB 데이터 셋을 영화 리뷰 긍정 & 부정으로 분류 한다.\n",
    "***\n",
    "\n",
    "## 1. IMBD 데이터셋 로드"
   ]
  },
  {
   "cell_type": "code",
   "execution_count": 2,
   "metadata": {},
   "outputs": [],
   "source": [
    "from keras.datasets import imdb\n",
    "\n",
    "(train_data, train_labels), (test_data, test_labels) = imdb.load_data(num_words=10000)"
   ]
  },
  {
   "cell_type": "markdown",
   "metadata": {},
   "source": [
    "> __num_words=10000__ 은 훈련 데이터에서 가장 자주 나타나는 단어 1만개를 사용하겠다는 뜻이다.   \n",
    "\n",
    "* train_data, test_data : 리뷰의 목록으로 각 리뷰는 단어 인덱스의 리스트이다.\n",
    "* train_labels, test_labels : __부정__ 을 나타내는 0과 __긍정__ 을 나타내는 1의 리스트이다."
   ]
  },
  {
   "cell_type": "markdown",
   "metadata": {},
   "source": [
    "## 2. 데이터 준비\n",
    "> 신경망에 숫자 __리스트__ 를 주입할 수 는 없다. 리스트를 텐서로 바꾸는 두가지 방법이 있다.\n",
    "\n",
    "* 같은 길이가 되게 리스트에 패딩을 추가하고 (samples, sequence_length)크기의 정수 텐서로 변환, 그 다음 이 정수 텐서를 다룰 수 있는 층을 신경망의 첫 번째 층으로 사용한다.\n",
    "* 리스트를 원-핫 인코딩하여 0과 1의 벡터로 변환, 부동 소수 벡터 데이터를 다룰 수 있는 __Dense__ 층을 신경망의 첫번째 층으로 사용한다.\n",
    "> 두번째 방식을 이용한다"
   ]
  },
  {
   "cell_type": "code",
   "execution_count": 6,
   "metadata": {},
   "outputs": [],
   "source": [
    "import numpy as np\n",
    "\n",
    "def vectorize_sequences(sequences, dimension=10000):\n",
    "    results = np.zeros((len(sequences), dimension))  # 크기가 (len(sequences), dimension)이고 모든 원소가 0인 행렬을 만든다\n",
    "    for i, sequence in enumerate(sequences) :\n",
    "        results[i, sequence] = 1.                    # results[i]에서 특정 인덱스의 위치를 1로 만든다\n",
    "    return results\n",
    "\n",
    "x_train = vectorize_sequences(train_data)           # 훈련 데이터를 벡터로 변환\n",
    "t_test = vectorize_sequences(test_data)             # 테스트 데이터를 벡터로 변환합니다"
   ]
  },
  {
   "cell_type": "code",
   "execution_count": 8,
   "metadata": {},
   "outputs": [],
   "source": [
    "# 레이블도 벡터로 변환\n",
    "\n",
    "y_train = np.asarray(train_labels).astype('float32')\n",
    "y_test = np.asarray(test_labels).astype('float32')"
   ]
  },
  {
   "cell_type": "markdown",
   "metadata": {},
   "source": [
    "## 3. 신경망 모델 만들기\n",
    "\n",
    "> 입력 데이터가 벡터고 레이블은 스칼라(1 or 0)이다. \n",
    "\n",
    "* 이 문제에 맞는 네트워크 종류는 __relu__ 활성화 함수를 사용한 완전 연결 층(즉 Dense(16, activation='relu'))을 쌓은것\n",
    "    > Dense층에 전달한 매개변수(16)은 은닉 유닛의 개수이다.\n",
    "\n",
    "#### Dense 층을 쌓을 때 두가지 중요한 구조상의 결정이 필요하다.\n",
    "* 얼마나 많은 층을 사용할 것인가?\n",
    "* 각 층에 얼마나 많은 은닉 유닛을 둘 것인가?\n",
    "\n",
    "### 활성화 함수 결정\n",
    "* 중간 은닉 층 : relu를 활성화 함수로 사용한다\n",
    "* 마지막 층 : 1~0 사이의 점수로 확률을 울력하기 위해 시그모이드를 활성화 함수로 사용한다."
   ]
  },
  {
   "cell_type": "code",
   "execution_count": 10,
   "metadata": {},
   "outputs": [],
   "source": [
    "from keras import models\n",
    "from keras import layers\n",
    "\n",
    "model = models.Sequential() # Sequential(순차모델) : 순차적으로 레이어 층을 더해 모델을 만든다\n",
    "model.add(layers.Dense(16, activation='relu', input_shape=(10000,)))\n",
    "model.add(layers.Dense(16, activation='relu'))\n",
    "model.add(layers.Dense(1, activation='sigmoid'))"
   ]
  },
  {
   "cell_type": "markdown",
   "metadata": {},
   "source": [
    "### 손실 함수와 옵티마이저\n",
    "> 이진 분류 문제에 출력이 확률이기 때문에 __binary_crossentropy(또는 mean_squared_error)__ 손실이 적합하다\n",
    "\n",
    "* __확률을 출력하는 모델은 솔실 함수로 크로스 엔트로피가 최선이다__ \n",
    "* __크로스엔트로피__ : 정보 이론 분야에서 온 개념으로 확률 분포 간의 차이를 측정한다.(원본 분포와 예측 분포 사이를 측정한다)\n",
    "\n",
    "> 옵티마이저 : rmsprop"
   ]
  },
  {
   "cell_type": "code",
   "execution_count": 13,
   "metadata": {},
   "outputs": [],
   "source": [
    "model.compile(optimizer='rmsprop',\n",
    "             loss='binary_crossentropy',\n",
    "             metrics=['accuracy']) # 측정 지표"
   ]
  },
  {
   "cell_type": "markdown",
   "metadata": {},
   "source": [
    "## 4. 훈련 검증"
   ]
  },
  {
   "cell_type": "code",
   "execution_count": null,
   "metadata": {},
   "outputs": [],
   "source": []
  }
 ],
 "metadata": {
  "kernelspec": {
   "display_name": "Python 3",
   "language": "python",
   "name": "python3"
  },
  "language_info": {
   "codemirror_mode": {
    "name": "ipython",
    "version": 3
   },
   "file_extension": ".py",
   "mimetype": "text/x-python",
   "name": "python",
   "nbconvert_exporter": "python",
   "pygments_lexer": "ipython3",
   "version": "3.8.3"
  }
 },
 "nbformat": 4,
 "nbformat_minor": 4
}
