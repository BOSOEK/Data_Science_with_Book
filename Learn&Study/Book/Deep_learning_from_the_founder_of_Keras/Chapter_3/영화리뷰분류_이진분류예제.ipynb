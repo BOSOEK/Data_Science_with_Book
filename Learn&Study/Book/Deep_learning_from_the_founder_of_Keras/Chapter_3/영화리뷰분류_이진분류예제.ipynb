{
 "cells": [
  {
   "cell_type": "markdown",
   "metadata": {},
   "source": [
    "# 영화 리뷰 분류 : 이진 분류 예제\n",
    "* IMDB 데이터 셋을 영화 리뷰 긍정 & 부정으로 분류 한다.\n",
    "***\n",
    "\n",
    "## 1. IMBD 데이터셋 로드"
   ]
  },
  {
   "cell_type": "code",
   "execution_count": 2,
   "metadata": {},
   "outputs": [],
   "source": [
    "from keras.datasets import imdb\n",
    "\n",
    "(train_data, train_labels), (test_data, test_labels) = imdb.load_data(num_words=10000)"
   ]
  },
  {
   "cell_type": "markdown",
   "metadata": {},
   "source": [
    "> __num_words=10000__ 은 훈련 데이터에서 가장 자주 나타나는 단어 1만개를 사용하겠다는 뜻이다.   \n",
    "\n",
    "* train_data, test_data : 리뷰의 목록으로 각 리뷰는 단어 인덱스의 리스트이다.\n",
    "* train_labels, test_labels : __부정__ 을 나타내는 0과 __긍정__ 을 나타내는 1의 리스트이다."
   ]
  },
  {
   "cell_type": "markdown",
   "metadata": {},
   "source": [
    "## 2. 데이터 준비\n",
    "> 신경망에 숫자 __리스트__ 를 주입할 수 는 없다. 리스트를 텐서로 바꾸는 두가지 방법이 있다.\n",
    "\n",
    "* 같은 길이가 되게 리스트에 패딩을 추가하고 (samples, sequence_length)크기의 정수 텐서로 변환, 그 다음 이 정수 텐서를 다룰 수 있는 층을 신경망의 첫 번째 층으로 사용한다.\n",
    "* 리스트를 원-핫 인코딩하여 0과 1의 벡터로 변환, 부동 소수 벡터 데이터를 다룰 수 있는 __Dense__ 층을 신경망의 첫번째 층으로 사용한다.\n",
    "> 두번째 방식을 이용한다"
   ]
  },
  {
   "cell_type": "code",
   "execution_count": 15,
   "metadata": {},
   "outputs": [],
   "source": [
    "import numpy as np\n",
    "\n",
    "def vectorize_sequences(sequences, dimension=10000):\n",
    "    results = np.zeros((len(sequences), dimension))  # 크기가 (len(sequences), dimension)이고 모든 원소가 0인 행렬을 만든다\n",
    "    for i, sequence in enumerate(sequences) :\n",
    "        results[i, sequence] = 1.                    # results[i]에서 특정 인덱스의 위치를 1로 만든다\n",
    "    return results\n",
    "\n",
    "x_train = vectorize_sequences(train_data)           # 훈련 데이터를 벡터로 변환\n",
    "x_test = vectorize_sequences(test_data)             # 테스트 데이터를 벡터로 변환합니다"
   ]
  },
  {
   "cell_type": "code",
   "execution_count": 4,
   "metadata": {},
   "outputs": [],
   "source": [
    "# 레이블도 벡터로 변환\n",
    "\n",
    "y_train = np.asarray(train_labels).astype('float32')\n",
    "y_test = np.asarray(test_labels).astype('float32')"
   ]
  },
  {
   "cell_type": "markdown",
   "metadata": {},
   "source": [
    "## 3. 신경망 모델 만들기\n",
    "\n",
    "> 입력 데이터가 벡터고 레이블은 스칼라(1 or 0)이다. \n",
    "\n",
    "* 이 문제에 맞는 네트워크 종류는 __relu__ 활성화 함수를 사용한 완전 연결 층(즉 Dense(16, activation='relu'))을 쌓은것\n",
    "    > Dense층에 전달한 매개변수(16)은 은닉 유닛의 개수이다.\n",
    "\n",
    "#### Dense 층을 쌓을 때 두가지 중요한 구조상의 결정이 필요하다.\n",
    "* 얼마나 많은 층을 사용할 것인가?\n",
    "* 각 층에 얼마나 많은 은닉 유닛을 둘 것인가?\n",
    "\n",
    "### 활성화 함수 결정\n",
    "* 중간 은닉 층 : relu를 활성화 함수로 사용한다\n",
    "* 마지막 층 : 1~0 사이의 점수로 확률을 울력하기 위해 시그모이드를 활성화 함수로 사용한다."
   ]
  },
  {
   "cell_type": "code",
   "execution_count": 5,
   "metadata": {},
   "outputs": [],
   "source": [
    "from keras import models\n",
    "from keras import layers\n",
    "\n",
    "model = models.Sequential() # Sequential(순차모델) : 순차적으로 레이어 층을 더해 모델을 만든다\n",
    "model.add(layers.Dense(16, activation='relu', input_shape=(10000,)))\n",
    "model.add(layers.Dense(16, activation='relu'))\n",
    "model.add(layers.Dense(1, activation='sigmoid'))"
   ]
  },
  {
   "cell_type": "markdown",
   "metadata": {},
   "source": [
    "### 손실 함수와 옵티마이저\n",
    "> 이진 분류 문제에 출력이 확률이기 때문에 __binary_crossentropy(또는 mean_squared_error)__ 손실이 적합하다\n",
    "\n",
    "* __확률을 출력하는 모델은 솔실 함수로 크로스 엔트로피가 최선이다__ \n",
    "* __크로스엔트로피__ : 정보 이론 분야에서 온 개념으로 확률 분포 간의 차이를 측정한다.(원본 분포와 예측 분포 사이를 측정한다)\n",
    "\n",
    "> 옵티마이저 : rmsprop"
   ]
  },
  {
   "cell_type": "code",
   "execution_count": 6,
   "metadata": {},
   "outputs": [],
   "source": [
    "model.compile(optimizer='rmsprop',\n",
    "             loss='binary_crossentropy',\n",
    "             metrics=['accuracy']) # 측정 지표"
   ]
  },
  {
   "cell_type": "markdown",
   "metadata": {},
   "source": [
    "## 4. 훈련 검증\n",
    "* 훈련동안 처음 본 데이터에 대한 모델의 정확도를 측정하기 위해 원본 훈련 데이터에서 10000개의 샘플을 떼어 검증 세트를 만든다."
   ]
  },
  {
   "cell_type": "code",
   "execution_count": 7,
   "metadata": {},
   "outputs": [],
   "source": [
    "x_val = x_train[:10000]\n",
    "partial_x_train = x_train[10000:]\n",
    "y_val = y_train[:10000]\n",
    "partial_y_train = y_train[10000:]"
   ]
  },
  {
   "cell_type": "markdown",
   "metadata": {},
   "source": [
    "* 모델을 512개의 샘플씩 미니 배치를 만들어 20번의 __에포크(x_train과 y_train 텐서에 있는 모든 샘플에 대해 20번 반복)__ 동안 훈련시킨다\n",
    "\n",
    "* 따로 떼어 놓은 1만 개의 샘플에서 __손실과 정확도__ 를 측정할 것. 이러기 위해서는 __validation_data__ 매개변수에 검증 데이터를 전달해야함\n"
   ]
  },
  {
   "cell_type": "code",
   "execution_count": 8,
   "metadata": {},
   "outputs": [
    {
     "name": "stdout",
     "output_type": "stream",
     "text": [
      "Epoch 1/20\n",
      "30/30 [==============================] - 3s 91ms/step - loss: 0.5012 - acc: 0.7922 - val_loss: 0.3811 - val_acc: 0.8598\n",
      "Epoch 2/20\n",
      "30/30 [==============================] - 2s 51ms/step - loss: 0.2984 - acc: 0.9007 - val_loss: 0.2968 - val_acc: 0.8892\n",
      "Epoch 3/20\n",
      "30/30 [==============================] - 1s 33ms/step - loss: 0.2153 - acc: 0.9329 - val_loss: 0.2784 - val_acc: 0.8924\n",
      "Epoch 4/20\n",
      "30/30 [==============================] - 1s 46ms/step - loss: 0.1718 - acc: 0.9430 - val_loss: 0.2771 - val_acc: 0.8892\n",
      "Epoch 5/20\n",
      "30/30 [==============================] - 1s 31ms/step - loss: 0.1422 - acc: 0.9522 - val_loss: 0.2831 - val_acc: 0.8890\n",
      "Epoch 6/20\n",
      "30/30 [==============================] - 1s 30ms/step - loss: 0.1130 - acc: 0.9658 - val_loss: 0.3309 - val_acc: 0.8739\n",
      "Epoch 7/20\n",
      "30/30 [==============================] - 1s 33ms/step - loss: 0.0961 - acc: 0.9711 - val_loss: 0.3224 - val_acc: 0.8832\n",
      "Epoch 8/20\n",
      "30/30 [==============================] - 1s 29ms/step - loss: 0.0787 - acc: 0.9765 - val_loss: 0.3381 - val_acc: 0.8804\n",
      "Epoch 9/20\n",
      "30/30 [==============================] - 1s 27ms/step - loss: 0.0652 - acc: 0.9822 - val_loss: 0.3690 - val_acc: 0.8793\n",
      "Epoch 10/20\n",
      "30/30 [==============================] - 9s 292ms/step - loss: 0.0545 - acc: 0.9863 - val_loss: 0.4186 - val_acc: 0.8680\n",
      "Epoch 11/20\n",
      "30/30 [==============================] - 3s 90ms/step - loss: 0.0436 - acc: 0.9899 - val_loss: 0.4269 - val_acc: 0.8728\n",
      "Epoch 12/20\n",
      "30/30 [==============================] - 1s 30ms/step - loss: 0.0355 - acc: 0.9927 - val_loss: 0.4567 - val_acc: 0.8711\n",
      "Epoch 13/20\n",
      "30/30 [==============================] - 1s 27ms/step - loss: 0.0292 - acc: 0.9937 - val_loss: 0.4760 - val_acc: 0.8731\n",
      "Epoch 14/20\n",
      "30/30 [==============================] - 1s 32ms/step - loss: 0.0240 - acc: 0.9952 - val_loss: 0.5107 - val_acc: 0.8723\n",
      "Epoch 15/20\n",
      "30/30 [==============================] - 1s 28ms/step - loss: 0.0186 - acc: 0.9973 - val_loss: 0.5405 - val_acc: 0.8710\n",
      "Epoch 16/20\n",
      "30/30 [==============================] - 1s 31ms/step - loss: 0.0153 - acc: 0.9981 - val_loss: 0.5879 - val_acc: 0.8660\n",
      "Epoch 17/20\n",
      "30/30 [==============================] - 17s 569ms/step - loss: 0.0135 - acc: 0.9976 - val_loss: 0.6118 - val_acc: 0.8675\n",
      "Epoch 18/20\n",
      "30/30 [==============================] - 1s 30ms/step - loss: 0.0072 - acc: 0.9997 - val_loss: 0.6712 - val_acc: 0.8668\n",
      "Epoch 19/20\n",
      "30/30 [==============================] - 1s 48ms/step - loss: 0.0127 - acc: 0.9973 - val_loss: 0.6980 - val_acc: 0.8630\n",
      "Epoch 20/20\n",
      "30/30 [==============================] - 1s 40ms/step - loss: 0.0041 - acc: 0.9999 - val_loss: 0.7186 - val_acc: 0.8638\n"
     ]
    }
   ],
   "source": [
    "model.compile(optimizer='rmsprop',\n",
    "             loss='binary_crossentropy',\n",
    "             metrics=['acc'])  # accuracy와 동일\n",
    "history = model.fit(partial_x_train,\n",
    "                   partial_y_train,\n",
    "                   epochs=20,\n",
    "                   batch_size=512,\n",
    "                   validation_data=(x_val, y_val)) # 손실과 정확도 측정을 위해 검증 데이터 제공"
   ]
  },
  {
   "cell_type": "markdown",
   "metadata": {},
   "source": [
    "* model.fit() 메서드는 __History 객체__ 를 반환한다. 이 객체는 __훈련하는 동안 발생한 모든 정보를 담고 있는 딕셔너리__ 인 history 속성을 가지고 있다"
   ]
  },
  {
   "cell_type": "code",
   "execution_count": 9,
   "metadata": {},
   "outputs": [
    {
     "data": {
      "text/plain": [
       "dict_keys(['loss', 'acc', 'val_loss', 'val_acc'])"
      ]
     },
     "execution_count": 9,
     "metadata": {},
     "output_type": "execute_result"
    }
   ],
   "source": [
    "history_dict = history.history\n",
    "history_dict.keys()"
   ]
  },
  {
   "cell_type": "markdown",
   "metadata": {},
   "source": [
    "* 훈련과 검증 손실 그리기"
   ]
  },
  {
   "cell_type": "code",
   "execution_count": 10,
   "metadata": {},
   "outputs": [
    {
     "data": {
      "image/png": "[encoded data removed]",
      "text/plain": [
       "<Figure size 432x288 with 1 Axes>"
      ]
     },
     "metadata": {
      "needs_background": "light"
     },
     "output_type": "display_data"
    }
   ],
   "source": [
    "import matplotlib.pyplot as plt\n",
    "\n",
    "history_dict = history.history\n",
    "loss = history_dict['loss']\n",
    "val_loss = history_dict['val_loss']\n",
    "\n",
    "epochs = range(1, len(loss)+1)\n",
    "\n",
    "plt.plot(epochs, loss, 'bo', label='Training loss') # 'bo'는 파란점을 의미\n",
    "plt.plot(epochs, val_loss, 'b', label='Validation loss') # 'b'는 파란색 실선을 의미\n",
    "plt.title('Training and validation loss')\n",
    "plt.xlabel('Epochs')\n",
    "plt.ylabel('Loss')\n",
    "plt.legend()\n",
    "plt.show()"
   ]
  },
  {
   "cell_type": "markdown",
   "metadata": {},
   "source": [
    "* 훈련과 검증 정확도 그리기"
   ]
  },
  {
   "cell_type": "code",
   "execution_count": 13,
   "metadata": {},
   "outputs": [
    {
     "data": {
      "image/png": "[encoded data removed]",
      "text/plain": [
       "<Figure size 432x288 with 1 Axes>"
      ]
     },
     "metadata": {
      "needs_background": "light"
     },
     "output_type": "display_data"
    }
   ],
   "source": [
    "plt.clf()  # 그래프 초기화\n",
    "acc = history_dict['acc']\n",
    "val_acc = history_dict['val_acc']\n",
    "\n",
    "plt.plot(epochs, acc, 'bo', label='Training acc')\n",
    "plt.plot(epochs, val_acc, 'b', label='Validation acc')\n",
    "plt.title('Training and validation accuracy')\n",
    "plt.xlabel('Epochs')\n",
    "plt.ylabel('Accuracy')\n",
    "plt.legend()\n",
    "plt.show()"
   ]
  },
  {
   "cell_type": "markdown",
   "metadata": {},
   "source": [
    "* 데이터가 __과대적합__ 되어서 두번째 epochs 이후로 훈련 데이터에 과도하게 최적화 되어 다른 데이터에는 일반화 되지 못했다.\n",
    "* 다시 새로운 신경망을 네번의 epochs동안만 훈련하고 테스트 데이터에서 평가한다.\n",
    "> fit()메서드를 재호출하면 학습된 가중치에서 이어지므로 처음부터 다시 학습할려면 모델 객체를 다시 만들어야한다."
   ]
  },
  {
   "cell_type": "code",
   "execution_count": 18,
   "metadata": {},
   "outputs": [
    {
     "name": "stdout",
     "output_type": "stream",
     "text": [
      "Epoch 1/4\n",
      "49/49 [==============================] - 1s 21ms/step - loss: 0.4716 - accuracy: 0.8086\n",
      "Epoch 2/4\n",
      "49/49 [==============================] - 1s 21ms/step - loss: 0.2698 - accuracy: 0.9082\n",
      "Epoch 3/4\n",
      "49/49 [==============================] - 1s 20ms/step - loss: 0.2045 - accuracy: 0.9292\n",
      "Epoch 4/4\n",
      "49/49 [==============================] - 1s 18ms/step - loss: 0.1685 - accuracy: 0.9425\n",
      "782/782 [==============================] - 1s 2ms/step - loss: 0.3064 - accuracy: 0.8781\n",
      "[0.30637720227241516, 0.8781200051307678]\n"
     ]
    }
   ],
   "source": [
    "model = models.Sequential()\n",
    "model.add(layers.Dense(16, activation='relu', input_shape=(10000,)))\n",
    "model.add(layers.Dense(16, activation='relu'))\n",
    "model.add(layers.Dense(1, activation='sigmoid'))\n",
    "\n",
    "model.compile(optimizer='rmsprop',\n",
    "             loss='binary_crossentropy',\n",
    "             metrics=['accuracy'])\n",
    "\n",
    "model.fit(x_train, y_train, epochs=4, batch_size=512)\n",
    "results = model.evaluate(x_test, y_test)\n",
    "print(results)"
   ]
  },
  {
   "cell_type": "markdown",
   "metadata": {},
   "source": [
    "## 훈련된 모델로 새로운 데이터에 대해 예측하기\n",
    "* predict 메서드로 어떤 리뷰가 긍정일 확률을 예측 가능하다."
   ]
  },
  {
   "cell_type": "code",
   "execution_count": 19,
   "metadata": {},
   "outputs": [
    {
     "data": {
      "text/plain": [
       "array([[0.14816839],\n",
       "       [0.99994653],\n",
       "       [0.87214017],\n",
       "       ...,\n",
       "       [0.1221042 ],\n",
       "       [0.06128135],\n",
       "       [0.5331974 ]], dtype=float32)"
      ]
     },
     "execution_count": 19,
     "metadata": {},
     "output_type": "execute_result"
    }
   ],
   "source": [
    "model.predict(x_test)"
   ]
  },
  {
   "cell_type": "markdown",
   "metadata": {},
   "source": [
    "## 결론\n",
    "* 원본 데이터를 신경망에 __텐서__ 로 주입하기 위해서는 꽤 많은 전처리가 필요하다.(단어 시퀀스는 이진 벡터로 인코딩 될 수 있고 다른 인코딩 방식도 있다)\n",
    "* __relu__ 활성화 함수와 함께 Dense층을 샇은 네트어크는 여러 문제에 적용 가능하다.\n",
    "* __이진 분류 문제에서 네트워크는 하나의 유닛과 sigmoid 활성화 함수를 가진 Dense 층으로 끝나야 한다.(이 신경망의 출력은 확률을 나타내는 0과 1 사이의 스칼라 값이다.)__\n",
    "* __이진 분류 문제에서 이런 스칼라 시그모이드 출력에 대해 사용할 손실 함수는 binary_crossentropy이다.__\n",
    "* __rmsprop__ 옵티마이저는 문제에 상관없이 일반적으로 충분히 좋은 선택이다.\n",
    "* 훈련 데이터에 대해 성능이 향상됨에 따라 과대적합되기 시작하기에 항상 훈련 세트 이외의 데이터에서 성능을 모니터링해야한다."
   ]
  },
  {
   "cell_type": "code",
   "execution_count": null,
   "metadata": {},
   "outputs": [],
   "source": []
  }
 ],
 "metadata": {
  "kernelspec": {
   "display_name": "Python 3",
   "language": "python",
   "name": "python3"
  },
  "language_info": {
   "codemirror_mode": {
    "name": "ipython",
    "version": 3
   },
   "file_extension": ".py",
   "mimetype": "text/x-python",
   "name": "python",
   "nbconvert_exporter": "python",
   "pygments_lexer": "ipython3",
   "version": "3.8.3"
  }
 },
 "nbformat": 4,
 "nbformat_minor": 4
}
