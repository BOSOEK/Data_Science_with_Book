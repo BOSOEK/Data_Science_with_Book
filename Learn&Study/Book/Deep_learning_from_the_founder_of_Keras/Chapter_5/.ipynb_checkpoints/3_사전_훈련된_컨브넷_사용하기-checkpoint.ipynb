{
 "cells": [
  {
   "cell_type": "markdown",
   "metadata": {
    "colab_type": "text",
    "id": "view-in-github"
   },
   "source": [
    "<a href=\"https://colab.research.google.com/github/BOSOEK/Machine_Learning/blob/main/Learn%26Study/Book/Deep_learning_from_the_founder_of_Keras/Chapter_5/3_%EC%82%AC%EC%A0%84_%ED%9B%88%EB%A0%A8%EB%90%9C_%EC%BB%A8%EB%B8%8C%EB%84%B7_%EC%82%AC%EC%9A%A9%ED%95%98%EA%B8%B0.ipynb\" target=\"_parent\"><img src=\"https://colab.research.google.com/assets/colab-badge.svg\" alt=\"Open In Colab\"/></a>"
   ]
  },
  {
   "cell_type": "markdown",
   "metadata": {
    "id": "avua-OrOu6iB"
   },
   "source": [
    "# 사전 훈련된 컨브넷 사용하기\n",
    "> 작은 이미지 데이터셋에 딥러닝을 적용하는 일반적 & 효과적인 방법은 __사전 훈련된 네트워크(문제를 위해 대량의 데이터셋에서 미리 훈련되어 저장된 네트워크)__ 를 이용하는 것이다.\n",
    "\n",
    "> 이 코드에서는 ImageNet 데이터셋에서 훈련된 대규모 컨브넷을 사용함\n",
    "* __VGG16__ : 간단하며 ImageNet 데이터셋에 널리 사용되는 컨브넷 구조이다.\n",
    "\n",
    "> 사전 훈련된 네트워크를 시작하는 방법은 __특성 추출__ 과 __미세 조정__ 이 있다.\n",
    "\n",
    "### 특성 추출\n"
   ]
  },
  {
   "cell_type": "code",
   "execution_count": null,
   "metadata": {
    "id": "QiO25u7Av1Go"
   },
   "outputs": [],
   "source": []
  }
 ],
 "metadata": {
  "colab": {
   "authorship_tag": "ABX9TyPfJnD86tJP7bA+Bhh2jikJ",
   "collapsed_sections": [],
   "include_colab_link": true,
   "name": "3. 사전_훈련된_컨브넷_사용하기.ipynb",
   "private_outputs": true,
   "provenance": []
  },
  "kernelspec": {
   "display_name": "Python 3",
   "language": "python",
   "name": "python3"
  },
  "language_info": {
   "codemirror_mode": {
    "name": "ipython",
    "version": 3
   },
   "file_extension": ".py",
   "mimetype": "text/x-python",
   "name": "python",
   "nbconvert_exporter": "python",
   "pygments_lexer": "ipython3",
   "version": "3.8.3"
  }
 },
 "nbformat": 4,
 "nbformat_minor": 4
}
