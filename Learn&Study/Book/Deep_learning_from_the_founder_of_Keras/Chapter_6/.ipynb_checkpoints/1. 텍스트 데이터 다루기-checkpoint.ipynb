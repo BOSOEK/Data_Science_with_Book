{
 "cells": [
  {
   "cell_type": "markdown",
   "id": "aa43bc1e-041b-4135-a583-ccac49451fe2",
   "metadata": {},
   "source": [
    "# 1. 텍스트 데이터 다루기\n",
    "> 신경망의 학습을 위해 텍스트를 수치형 텐서로 변환하는 과정(__텍스트 벡터화__)가 필요하다.\n",
    "\n",
    "### 텍스트 벡터화 방식\n",
    "* 텍스트를 단어로 나누고 각 단어를 하나의 벡터로 변환\n",
    "* 텍스트를 문자로 나누고 각 문자를 하나의 벡터로 변환\n",
    "* 텍스트에서 단어난 문자의 n-그램을 추출, 각 n-그램을 하나의 벡터로 변환한다. n-그램은 연속된 단어 & 문자의 그룹으로 텍스ㅡㅌ에서 단어나 문자를 하나씩 이동하면서 추출\n",
    "\n",
    "> 토큰 : 텍스트를 나누는 단위(단어, 문자)\n",
    "> 토큰화 : 텍스트를 토큰으로 나누는 작업\n",
    "\n",
    "## 토큰과 벡터를 연결하는 방법\n",
    "#### 1. 원-핫 인코딩\n",
    "#### 2. 토큰 임베딩"
   ]
  },
  {
   "cell_type": "markdown",
   "id": "2a197b3e-e486-4596-995a-9c3a9cd80073",
   "metadata": {},
   "source": []
  }
 ],
 "metadata": {
  "kernelspec": {
   "display_name": "Python 3",
   "language": "python",
   "name": "python3"
  },
  "language_info": {
   "codemirror_mode": {
    "name": "ipython",
    "version": 3
   },
   "file_extension": ".py",
   "mimetype": "text/x-python",
   "name": "python",
   "nbconvert_exporter": "python",
   "pygments_lexer": "ipython3",
   "version": "3.8.8"
  }
 },
 "nbformat": 4,
 "nbformat_minor": 5
}
