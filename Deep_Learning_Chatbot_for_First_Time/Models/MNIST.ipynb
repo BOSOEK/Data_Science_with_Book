{
  "nbformat": 4,
  "nbformat_minor": 0,
  "metadata": {
    "colab": {
      "name": "MNIST.ipynb",
      "provenance": [],
      "collapsed_sections": [],
      "authorship_tag": "ABX9TyMCkFjM2P8hi7scifQKWzdx",
      "include_colab_link": true
    },
    "kernelspec": {
      "name": "python3",
      "display_name": "Python 3"
    },
    "language_info": {
      "name": "python"
    }
  },
  "cells": [
    {
      "cell_type": "markdown",
      "metadata": {
        "id": "view-in-github",
        "colab_type": "text"
      },
      "source": [
        "<a href=\"https://colab.research.google.com/github/BOSOEK/Machine_Learning_with_Book/blob/main/Deep_Learning_Chatbot_for_First_Time/Models/MNIST.ipynb\" target=\"_parent\"><img src=\"https://colab.research.google.com/assets/colab-badge.svg\" alt=\"Open In Colab\"/></a>"
      ]
    },
    {
      "cell_type": "markdown",
      "metadata": {
        "id": "VDIDcNqDhT80"
      },
      "source": [
        "# 케라스로 MNIST 숫자 이미지 분류 모델"
      ]
    },
    {
      "cell_type": "code",
      "metadata": {
        "colab": {
          "base_uri": "https://localhost:8080/",
          "height": 918
        },
        "id": "8RzzvtK4hPZh",
        "outputId": "dbdca51e-b6af-410a-e6f6-63723e7008bc"
      },
      "source": [
        "import tensorflow as tf\n",
        "import matplotlib.pyplot as plt\n",
        "from tensorflow.keras.datasets import mnist\n",
        "from tensorflow.keras.models import Sequential\n",
        "from tensorflow.keras.layers import Flatten, Dense\n",
        "\n",
        "# mnist 데이터 로드\n",
        "(x_train, y_train), (x_test, y_test) = mnist.load_data()\n",
        "x_train, x_test = x_train/255.0, x_test / 255.0   # 데이터 정규화\n",
        "\n",
        "# tf.data로 데이터셋 섞고 배치\n",
        "ds = tf.data.Dataset.from_tensor_slices((x_train, y_train)).shuffle(10000)\n",
        "train_size = int(len(x_train) * 0.7)   \n",
        "train_ds = ds.take(train_size).batch(20)\n",
        "val_ds = ds.skip(train_size).batch(20)\n",
        "\n",
        "# MNIST 분류 모델 구성\n",
        "model = Sequential()\n",
        "model.add(Flatten(input_shape=(28, 28)))\n",
        "model.add(Dense(20, activation='relu'))\n",
        "model.add(Dense(20, activation='relu'))\n",
        "model.add(Dense(10, activation='softmax'))\n",
        "\n",
        "# 모델 생성\n",
        "model.compile(loss='sparse_categorical_crossentropy', optimizer='sgd', metrics=['accuracy'])\n",
        "\n",
        "# 모델 학습\n",
        "hist = model.fit(train_ds, validation_data=val_ds, epochs=10)\n",
        "\n",
        "# 모델 평가\n",
        "print('== 모델 평가 ==')\n",
        "model.evaluate(x_test, y_test)\n",
        "\n",
        "# 모델 정보 출력\n",
        "model.summary()\n",
        "\n",
        "# 모델 저장\n",
        "model.save('mnist_model.h5')\n",
        "\n",
        "# 학습 결과 그래프 그리기\n",
        "fig, loss_ax = plt.subplots()\n",
        "acc_ax = loss_ax.twinx()\n",
        "\n",
        "loss_ax.plot(hist.history['loss'], 'y', label='train loss')\n",
        "loss_ax.plot(hist.history['val_loss'], 'r', label='val loss')\n",
        "\n",
        "acc_ax.plot(hist.history['accuracy'], 'b', label='train acc')\n",
        "acc_ax.plot(hist.history['val_accuracy'], 'g', label='val acc')\n",
        "\n",
        "loss_ax.set_xlabel('epoch')\n",
        "loss_ax.set_ylabel('loss')\n",
        "acc_ax.set_ylabel('accuracy')\n",
        "\n",
        "loss_ax.legend(loc='upper left')\n",
        "acc_ax.legend(loc='lower left')\n",
        "plt.show()"
      ],
      "execution_count": null,
      "outputs": [
        {
          "output_type": "stream",
          "text": [
            "Epoch 1/10\n",
            "2100/2100 [==============================] - 5s 2ms/step - loss: 0.8040 - accuracy: 0.7745 - val_loss: 0.3870 - val_accuracy: 0.8896\n",
            "Epoch 2/10\n",
            "2100/2100 [==============================] - 4s 2ms/step - loss: 0.3519 - accuracy: 0.8996 - val_loss: 0.3004 - val_accuracy: 0.9138\n",
            "Epoch 3/10\n",
            "2100/2100 [==============================] - 4s 2ms/step - loss: 0.2940 - accuracy: 0.9163 - val_loss: 0.2801 - val_accuracy: 0.9196\n",
            "Epoch 4/10\n",
            "2100/2100 [==============================] - 4s 2ms/step - loss: 0.2587 - accuracy: 0.9269 - val_loss: 0.2390 - val_accuracy: 0.9329\n",
            "Epoch 5/10\n",
            "2100/2100 [==============================] - 4s 2ms/step - loss: 0.2359 - accuracy: 0.9322 - val_loss: 0.2234 - val_accuracy: 0.9369\n",
            "Epoch 6/10\n",
            "2100/2100 [==============================] - 4s 2ms/step - loss: 0.2202 - accuracy: 0.9367 - val_loss: 0.2095 - val_accuracy: 0.9386\n",
            "Epoch 7/10\n",
            "2100/2100 [==============================] - 4s 2ms/step - loss: 0.2021 - accuracy: 0.9410 - val_loss: 0.1989 - val_accuracy: 0.9448\n",
            "Epoch 8/10\n",
            "2100/2100 [==============================] - 4s 2ms/step - loss: 0.1944 - accuracy: 0.9438 - val_loss: 0.1823 - val_accuracy: 0.9492\n",
            "Epoch 9/10\n",
            "2100/2100 [==============================] - 4s 2ms/step - loss: 0.1789 - accuracy: 0.9483 - val_loss: 0.1758 - val_accuracy: 0.9503\n",
            "Epoch 10/10\n",
            "2100/2100 [==============================] - 4s 2ms/step - loss: 0.1701 - accuracy: 0.9508 - val_loss: 0.1801 - val_accuracy: 0.9502\n",
            "== 모델 평가 ==\n",
            "313/313 [==============================] - 1s 2ms/step - loss: 0.1771 - accuracy: 0.9476\n",
            "Model: \"sequential\"\n",
            "_________________________________________________________________\n",
            "Layer (type)                 Output Shape              Param #   \n",
            "=================================================================\n",
            "flatten (Flatten)            (None, 784)               0         \n",
            "_________________________________________________________________\n",
            "dense (Dense)                (None, 20)                15700     \n",
            "_________________________________________________________________\n",
            "dense_1 (Dense)              (None, 20)                420       \n",
            "_________________________________________________________________\n",
            "dense_2 (Dense)              (None, 10)                210       \n",
            "=================================================================\n",
            "Total params: 16,330\n",
            "Trainable params: 16,330\n",
            "Non-trainable params: 0\n",
            "_________________________________________________________________\n"
          ],
          "name": "stdout"
        },
        {
          "output_type": "display_data",
          "data": {
            "image/png": "[encoded data removed]",
            "text/plain": [
              "<Figure size 432x288 with 2 Axes>"
            ]
          },
          "metadata": {
            "tags": [],
            "needs_background": "light"
          }
        }
      ]
    },
    {
      "cell_type": "markdown",
      "metadata": {
        "id": "eWiUwgYAntn-"
      },
      "source": [
        "### 학습된 딥러닝 모델 사용"
      ]
    },
    {
      "cell_type": "code",
      "metadata": {
        "colab": {
          "base_uri": "https://localhost:8080/",
          "height": 621
        },
        "id": "ABlX3gCWh7tE",
        "outputId": "ee334db0-8de9-4ea3-eac2-67c48c099f4b"
      },
      "source": [
        "from tensorflow.keras.models import load_model\n",
        "# mnist 데이터 로드\n",
        "_, (x_test, y_test) = mnist.load_data()\n",
        "x_train, x_test = x_train/255.0, x_test / 255.0   # 데이터 정규화\n",
        "\n",
        "# 모델 불러오기\n",
        "model = load_model('mnist_model.h5')\n",
        "model.summary()\n",
        "model.evaluate(x_test, y_test, verbose=2)\n",
        "\n",
        "# 테스트셋에서 20번째 이미지 출력\n",
        "plt.imshow(x_test[20], cmap='gray')\n",
        "plt.show()\n",
        "\n",
        "# 테스트셋의 20번째 이미지 클래스 분류\n",
        "picks=[20]\n",
        "predict = model.predict_classes(x_test[picks])\n",
        "print('손글씨 이미지 예측값 : ', predict)"
      ],
      "execution_count": null,
      "outputs": [
        {
          "output_type": "stream",
          "text": [
            "Model: \"sequential\"\n",
            "_________________________________________________________________\n",
            "Layer (type)                 Output Shape              Param #   \n",
            "=================================================================\n",
            "flatten (Flatten)            (None, 784)               0         \n",
            "_________________________________________________________________\n",
            "dense (Dense)                (None, 20)                15700     \n",
            "_________________________________________________________________\n",
            "dense_1 (Dense)              (None, 20)                420       \n",
            "_________________________________________________________________\n",
            "dense_2 (Dense)              (None, 10)                210       \n",
            "=================================================================\n",
            "Total params: 16,330\n",
            "Trainable params: 16,330\n",
            "Non-trainable params: 0\n",
            "_________________________________________________________________\n",
            "313/313 - 0s - loss: 0.1771 - accuracy: 0.9476\n"
          ],
          "name": "stdout"
        },
        {
          "output_type": "display_data",
          "data": {
            "image/png": "[encoded data removed]",
            "text/plain": [
              "<Figure size 432x288 with 1 Axes>"
            ]
          },
          "metadata": {
            "tags": [],
            "needs_background": "light"
          }
        },
        {
          "output_type": "stream",
          "text": [
            "손글씨 이미지 예측값 :  [9]\n"
          ],
          "name": "stdout"
        },
        {
          "output_type": "stream",
          "text": [
            "/usr/local/lib/python3.7/dist-packages/tensorflow/python/keras/engine/sequential.py:455: UserWarning: `model.predict_classes()` is deprecated and will be removed after 2021-01-01. Please use instead:* `np.argmax(model.predict(x), axis=-1)`,   if your model does multi-class classification   (e.g. if it uses a `softmax` last-layer activation).* `(model.predict(x) > 0.5).astype(\"int32\")`,   if your model does binary classification   (e.g. if it uses a `sigmoid` last-layer activation).\n",
            "  warnings.warn('`model.predict_classes()` is deprecated and '\n"
          ],
          "name": "stderr"
        }
      ]
    },
    {
      "cell_type": "code",
      "metadata": {
        "id": "sDe1dyQ3t7RA"
      },
      "source": [
        ""
      ],
      "execution_count": null,
      "outputs": []
    }
  ]
}