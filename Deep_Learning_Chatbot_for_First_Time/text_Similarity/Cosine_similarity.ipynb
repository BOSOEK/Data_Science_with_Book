{
  "nbformat": 4,
  "nbformat_minor": 0,
  "metadata": {
    "colab": {
      "name": "Cosine_similarity.ipynb",
      "private_outputs": true,
      "provenance": [],
      "collapsed_sections": [],
      "authorship_tag": "ABX9TyN9iJ8aCG/B6VGxwsffl8ee",
      "include_colab_link": true
    },
    "kernelspec": {
      "name": "python3",
      "display_name": "Python 3"
    },
    "language_info": {
      "name": "python"
    }
  },
  "cells": [
    {
      "cell_type": "markdown",
      "metadata": {
        "id": "view-in-github",
        "colab_type": "text"
      },
      "source": [
        "<a href=\"https://colab.research.google.com/github/BOSOEK/Machine_Learning_with_Book/blob/main/Deep_Learning_Chatbot_for_First_Time/text_Similarity/Cosine_similarity.ipynb\" target=\"_parent\"><img src=\"https://colab.research.google.com/assets/colab-badge.svg\" alt=\"Open In Colab\"/></a>"
      ]
    },
    {
      "cell_type": "markdown",
      "metadata": {
        "id": "PLej4Q8h3pSc"
      },
      "source": [
        "# 코사인 유사도\n",
        "코사인 유사도는 두 벡터 간 코사인 각도로 유사도를 측정한다.\n",
        "> 일반적으로 벡터 크기가 중요치 않을때 거리 측정을 위해 사용된다.\n",
        "> * 두 벡터가 완전히 동일함 : 1\n",
        "> * 두 벡터가 완전히 반대임 : -1\n",
        "> * 두 벡터가 직각을 이룸 : 0"
      ]
    },
    {
      "cell_type": "code",
      "metadata": {
        "id": "tjq2d6mZ3j_p"
      },
      "source": [
        "from konlpy.tag import Komoran\n",
        "import numpy as np\n",
        "from numpy import dot\n",
        "from numpy.linalg import norm\n",
        "\n",
        "# 코사인 유사도 곗나\n",
        "def cos_sim(vec1, vec2):\n",
        "    return dot(vec1, vec2) / (norm(vec1) * norm(vec2))\n",
        "\n",
        "# TDM 만들기\n",
        "def make_term_doc_mt(sentence_bow, word_dics):\n",
        "    freq_mat = {}\n",
        "    \n",
        "    for word in word_dics:\n",
        "        freq_mat[word] = 0\n",
        "\n",
        "    for word in word_dics:\n",
        "        if word in sentence_bow:\n",
        "            freq_mat[word] += 1\n",
        "\n",
        "    return freq_mat\n",
        "\n",
        "# 단어 벡터 만들기\n",
        "def make_vector(tdm):\n",
        "    vec = []\n",
        "    for key in tdm:\n",
        "        vec.append(tdm[key])\n",
        "    return vec\n",
        "\n",
        "# 문장 정의\n",
        "sentence1 = '6월에 뉴턴은 선생님의 제안으로 트리니티에 입학했다.'\n",
        "sentence2 = '6월에 뉴턴은 선생님의 제안으로 대학교에 입학했다.'\n",
        "sentence3 = '나는 맛있는 밥을 뉴턴 선생님과 함께 먹었다.'\n",
        "\n",
        "# 형태소 분석기를 이용해 단어 묶음 리스트 생성\n",
        "komoran = Komoran()\n",
        "bow1 = komoran.nouns(sentence1)\n",
        "bow2 = komoran.nouns(sentence2)\n",
        "bow3 = komoran.nouns(sentence3)\n",
        "\n",
        "# 단어 묶음 리스트를 하나로 합침\n",
        "bow = bow1 + bow2 + bow3\n",
        "\n",
        "# 단어 묶음에서 중복을 제거해 단어 사전 구축\n",
        "word_dics = []\n",
        "for token in bow:\n",
        "    if token not in word_dics:\n",
        "        word_dics.append(token)\n",
        "\n",
        "# 문장별 단어 문서 행렬 계산\n",
        "freq_list1 = make_term_doc_mat(bow1, word_dics)\n",
        "freq_list2 = make_term_doc_mat(bow2, word_dics)\n",
        "freq_list3 = make_term_doc_mat(bow3, word_dics)\n",
        "print(freq_list1)\n",
        "print(freq_list2)\n",
        "print(freq_list3)\n",
        "\n",
        "# 문장 벡터 생성\n",
        "doc1 = np.array(make_vector(freq_list1))\n",
        "doc2 = np.array(make_vector(freq_list2))\n",
        "doc3 = np.array(make_vector(freq_list3))\n",
        "\n",
        "# 코사인 유사도 계산\n",
        "r1 = cos_sim(doc1, doc2)\n",
        "r2 = cos_sim(doc3, doc1)\n",
        "print(r1)\n",
        "print(r2)"
      ],
      "execution_count": null,
      "outputs": []
    },
    {
      "cell_type": "code",
      "metadata": {
        "id": "3KfRRj0O_n4p"
      },
      "source": [
        "pip install konlpy"
      ],
      "execution_count": null,
      "outputs": []
    },
    {
      "cell_type": "code",
      "metadata": {
        "id": "f-HhL0SGAuPN"
      },
      "source": [
        ""
      ],
      "execution_count": null,
      "outputs": []
    }
  ]
}