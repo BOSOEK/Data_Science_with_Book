{
  "nbformat": 4,
  "nbformat_minor": 0,
  "metadata": {
    "colab": {
      "name": "n-gram.ipynb",
      "provenance": [],
      "collapsed_sections": [],
      "authorship_tag": "ABX9TyNnvL/VP4S1wKeu+dZPK2cb",
      "include_colab_link": true
    },
    "kernelspec": {
      "name": "python3",
      "display_name": "Python 3"
    },
    "language_info": {
      "name": "python"
    }
  },
  "cells": [
    {
      "cell_type": "markdown",
      "metadata": {
        "id": "view-in-github",
        "colab_type": "text"
      },
      "source": [
        "<a href=\"https://colab.research.google.com/github/BOSOEK/Machine_Learning_with_Book/blob/main/Deep_Learning_Chatbot_for_First_Time/text_Similarity/n_gram.ipynb\" target=\"_parent\"><img src=\"https://colab.research.google.com/assets/colab-badge.svg\" alt=\"Open In Colab\"/></a>"
      ]
    },
    {
      "cell_type": "markdown",
      "metadata": {
        "id": "2LByf3_A4NNz"
      },
      "source": [
        "# n-gram 유사도 측정\n",
        "\n",
        "n-gram은 주어진 문장에서 n개의 연속 단어 시퀀스를 토큰으로 유사도를 계산하는 방법이다."
      ]
    },
    {
      "cell_type": "code",
      "metadata": {
        "id": "XwgfN4gV4If1"
      },
      "source": [
        "from konlpy.tag import Komoran\n",
        "\n",
        "# 어절단위 n-gram\n",
        "def word_ngram(vow, num_gram):\n",
        "    text = tuple(bow)\n",
        "    ngrams = [text[x:x + num_gram] for x in range(0, len(text))]\n",
        "    return tuple(ngrams)\n",
        "\n",
        "# 유사도 계산\n",
        "def similarity(doc1, doc2):\n",
        "    cnt = 0\n",
        "    for token in doc1:\n",
        "        if token in doc2:\n",
        "            cnt = cnt+1\n",
        "    return cnt / len(doc1)\n",
        "\n",
        "# 문장 정의\n",
        "sentence1 = '6월에 뉴턴은 선생님의 제안으로 트리니티에 입학했다.'\n",
        "sentence2 = '6월에 뉴턴은 선생님의 제안으로 대학교에 입학했다.'\n",
        "sentence3 = '나는 맛있는 밥을 뉴턴 선생님과 함께 먹었다.'\n",
        "\n",
        "# 형태소 분석기에서 단어 추출"
      ],
      "execution_count": null,
      "outputs": []
    }
  ]
}