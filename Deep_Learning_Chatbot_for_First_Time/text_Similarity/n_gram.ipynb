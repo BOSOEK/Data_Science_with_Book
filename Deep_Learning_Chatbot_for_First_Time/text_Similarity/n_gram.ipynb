{
  "nbformat": 4,
  "nbformat_minor": 0,
  "metadata": {
    "colab": {
      "name": "n-gram.ipynb",
      "provenance": [],
      "collapsed_sections": [],
      "authorship_tag": "ABX9TyM6zqssMXSLwm2PyU5uiomY",
      "include_colab_link": true
    },
    "kernelspec": {
      "name": "python3",
      "display_name": "Python 3"
    },
    "language_info": {
      "name": "python"
    }
  },
  "cells": [
    {
      "cell_type": "markdown",
      "metadata": {
        "id": "view-in-github",
        "colab_type": "text"
      },
      "source": [
        "<a href=\"https://colab.research.google.com/github/BOSOEK/Machine_Learning_with_Book/blob/main/Deep_Learning_Chatbot_for_First_Time/text_Similarity/n_gram.ipynb\" target=\"_parent\"><img src=\"https://colab.research.google.com/assets/colab-badge.svg\" alt=\"Open In Colab\"/></a>"
      ]
    },
    {
      "cell_type": "markdown",
      "metadata": {
        "id": "2LByf3_A4NNz"
      },
      "source": [
        "# n-gram 유사도 측정\n",
        "\n",
        "n-gram은 주어진 문장에서 n개의 연속 단어 시퀀스를 토큰으로 유사도를 계산하는 방법이다.\n",
        "\n",
        "> 하지만 n-gram은 n을 크게 잡으면 __비교 문장의 토큰과 비교시 카운트를 놓치고__ n을 작게 잡으면 __문맥 파알 정확도가 떨어져__ n의 설정은 매우 중요하다."
      ]
    },
    {
      "cell_type": "code",
      "metadata": {
        "id": "XwgfN4gV4If1",
        "colab": {
          "base_uri": "https://localhost:8080/"
        },
        "outputId": "933a113a-fe4e-4071-e217-e6ddd902d8e5"
      },
      "source": [
        "from konlpy.tag import Komoran\n",
        "\n",
        "# 어절단위 n-gram 토큰 추출\n",
        "def word_ngram(bow, num_gram):\n",
        "    text = tuple(bow)\n",
        "    ngrams = [text[x:x + num_gram] for x in range(0, len(text))]\n",
        "    return tuple(ngrams)\n",
        "\n",
        "# 유사도 계산 : 두 문장의 유사도(토큰의 일치도)를 확인\n",
        "def similarity(doc1, doc2):\n",
        "    cnt = 0\n",
        "    for token in doc1:\n",
        "        if token in doc2:\n",
        "            cnt = cnt+1\n",
        "    return cnt / len(doc1)\n",
        "\n",
        "# 문장 정의\n",
        "sentence1 = '6월에 뉴턴은 선생님의 제안으로 트리니티에 입학했다.'\n",
        "sentence2 = '6월에 뉴턴은 선생님의 제안으로 대학교에 입학했다.'\n",
        "sentence3 = '나는 맛있는 밥을 뉴턴 선생님과 함께 먹었다.'\n",
        "\n",
        "# 형태소 분석기에서 단어 추출\n",
        "komoran = Komoran()\n",
        "bow1 = komoran.nouns(sentence1)\n",
        "bow2 = komoran.nouns(sentence2)\n",
        "bow3 = komoran.nouns(sentence3)\n",
        "\n",
        "# 단어 n-그램 토큰 추출\n",
        "doc1 = word_ngram(bow1, 2)    # 2-gram 방식을 추출\n",
        "doc2 = word_ngram(bow2, 2)\n",
        "doc3 = word_ngram(bow3, 2)\n",
        "\n",
        "# 추출된 n-gram 토큰 출력\n",
        "print(doc1)\n",
        "print(doc2)\n",
        "\n",
        "# 유사도 계산\n",
        "r1 = similarity(doc1, doc2)\n",
        "r2 = similarity(doc3, doc1)\n",
        "\n",
        "# 계산된 유사도 출력\n",
        "print(r1)   # 대학교와 트리니티가 달라서 60%\n",
        "print(r2)   # 걍 완전 다른 문장이라 0%"
      ],
      "execution_count": 12,
      "outputs": [
        {
          "output_type": "stream",
          "text": [
            "(('6월', '뉴턴'), ('뉴턴', '선생님'), ('선생님', '제안'), ('제안', '트리니티'), ('트리니티', '입학'), ('입학',))\n",
            "(('6월', '뉴턴'), ('뉴턴', '선생님'), ('선생님', '제안'), ('제안', '대학교'), ('대학교', '입학'), ('입학',))\n",
            "0.6666666666666666\n",
            "0.0\n"
          ],
          "name": "stdout"
        }
      ]
    }
  ]
}