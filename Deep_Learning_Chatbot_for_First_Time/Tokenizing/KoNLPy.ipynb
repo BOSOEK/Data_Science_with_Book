{
  "nbformat": 4,
  "nbformat_minor": 0,
  "metadata": {
    "colab": {
      "name": "KoNLPy.ipynb",
      "private_outputs": true,
      "provenance": [],
      "authorship_tag": "ABX9TyMsBnEHg1ZHneVxKsUeqFFw",
      "include_colab_link": true
    },
    "kernelspec": {
      "name": "python3",
      "display_name": "Python 3"
    },
    "language_info": {
      "name": "python"
    }
  },
  "cells": [
    {
      "cell_type": "markdown",
      "metadata": {
        "id": "view-in-github",
        "colab_type": "text"
      },
      "source": [
        "<a href=\"https://colab.research.google.com/github/BOSOEK/Machine_Learning_with_Book/blob/main/Deep_Learning_Chatbot_for_First_Time/Tokenizing/KoNLPy.ipynb\" target=\"_parent\"><img src=\"https://colab.research.google.com/assets/colab-badge.svg\" alt=\"Open In Colab\"/></a>"
      ]
    },
    {
      "cell_type": "markdown",
      "metadata": {
        "id": "ighjrequkxZl"
      },
      "source": [
        "# KoNLPy\n",
        "한국어 문장 분석시 토크나이징 작업이 필수다. 이때 한국어는 형태소로 분류가 힘든데.. __KoNLPy__ 내에는 형태소 분석 모듈이 많아 개발시 자주 사용한다.\n",
        "\n",
        "## Kkma\n",
        "서울 대학교 IDS 연구실에서 NLP를 위해 개발한 한국어 형태소 분석기\n",
        "> Kkma 모듈의 함수\n",
        " * morphs(phrase) : 인자로 입력한 문장을 형태소 단위로 토크나이징 한다. 결과는 리스트로 반환\n",
        " * nouns(phrase) : 인자로 입력한 문장에서 품사가 명사인 토큰만 추출\n",
        " * pos(phrase, flatten=True) : 인자로 입력한 문장에서 형태소 추출 후 품사 태깅을 한다. 추출된 형태소 : 품사로 튜플 형태로 묶여 리스트로 반환\n",
        "    * NNG : 일반 명사\n",
        "    * JKS : 주격 조사\n",
        "    * JKM : 부사격 조사\n",
        "    * VV : 동사\n",
        "    * EFN : 평서형 종결 어미\n",
        "    * SF : 마침표, 물음표, 느낌표\n",
        " * sentences(phrase) : 인자로 입력한 여러 문장을 분리, 결과는 리스트로 반환"
      ]
    },
    {
      "cell_type": "code",
      "metadata": {
        "id": "xLT4JC5UlMUV"
      },
      "source": [
        "# KoNLPy 설치\n",
        "!pip install konlpy"
      ],
      "execution_count": null,
      "outputs": []
    },
    {
      "cell_type": "code",
      "metadata": {
        "id": "I4wnC5cCqs_1"
      },
      "source": [
        "# 문장 토크나이징 예제\n",
        "from konlpy.tag import Kkma\n",
        "\n",
        "# 꼬꼬마 형태소 분석기 객체 생성\n",
        "kkma = Kkma()\n",
        "text = '아버지가 방에 들어갑니다.'\n",
        "\n",
        "# 형태소 추출\n",
        "morphs = kkma.morphs(text)\n",
        "print(morphs)\n",
        "\n",
        "# 형태소와 품사 추출\n",
        "pos = kkma.pos(text)\n",
        "print(pos)\n",
        "\n",
        "# 명사 추출\n",
        "nouns = kkma.nouns(text)\n",
        "print(nouns)\n",
        "\n",
        "# 문장 분리\n",
        "senteces = '오늘 날씨는 어때요? 너무 덥다던데'\n",
        "s = kkma.sentences(senteces)\n",
        "print(s)"
      ],
      "execution_count": null,
      "outputs": []
    },
    {
      "cell_type": "markdown",
      "metadata": {
        "id": "7sOMtROOspEr"
      },
      "source": [
        "## Komoran\n",
        "자바로 개발한 한국어 형태소 분석기로 아파치 라이선스 2.0을 따르는 오픈소프트웨어이다.   \n",
        "다른 형태소 분석기랑 달리 __공백 포함된 형태소 단위 분석__ 이 가능하여 자주 사용도니다.\n",
        "> Komoran 모듈의 함수      \n",
        "  * morphs(phrase) : 인자로 입력한 문장을 형태소 단위로 토크나이징 한다. 결과는 리스트로 반환   \n",
        "  * nouns(phrase) : 인자로 입력한 문장에서 품사가 명사인 토큰만 추출   \n",
        "  * pos(phrase, flatten=True) : 인자로 입력한 문장에서 형태소 추출 후 품사 태깅을 한다. 추출된 형태소 : 품사로 튜플 형태로 묶여 리스트로 반환 \n",
        "    * NNG : 일반 명사\n",
        "    * JKS : 주격 조사\n",
        "    * JKM : 부사격 조사\n",
        "    * VV : 동사\n",
        "    * EFN : 평서형 종결 어미\n",
        "    * SF : 마침표, 물음표, 느낌표  "
      ]
    },
    {
      "cell_type": "code",
      "metadata": {
        "id": "Cm9nfTrvsIle"
      },
      "source": [
        "from konlpy.tag import Komoran\n",
        "\n",
        "# 코모란 형태소 분석기 객체 생성\n",
        "komoran = Komoran()\n",
        "text = '아버지가 방에 들어갑니다.'\n",
        "\n",
        "# 형태소 추출\n",
        "morphs = komoran.morphs(text)\n",
        "print(morphs)\n",
        "\n",
        "# 형태소와 품사 태그 추출\n",
        "pos = komoran.pos(text)\n",
        "print(pos)\n",
        "\n",
        "# 명사만 추출\n",
        "nouns = komoran.nouns(text)\n",
        "print(nouns)"
      ],
      "execution_count": null,
      "outputs": []
    },
    {
      "cell_type": "markdown",
      "metadata": {
        "id": "dOcItD6bt34v"
      },
      "source": [
        "## Okt\n",
        "트위터에서 개발한 한국어 처리기이다. \n",
        "> Okt 모듈의 함수\n",
        " * morphs(phrase) : 인자로 입력한 문장을 형태소 단위로 토크나이징 한다. 결과는 리스트로 반환\n",
        " * nouns(phrase) : 인자로 입력한 문장에서 품사가 명사인 토큰만 추출\n",
        " * pos(phrase, stem=False, join=False) : 인자로 입력한 문장에서 형태소 추출 후 품사 태깅을 한다. 추출된 형태소 : 품사로 튜플 형태로 묶여 리스트로 반환\n",
        "    * Noun : 명사\n",
        "    * Verb : 동사\n",
        "    * Adjective : 형용사\n",
        "    * Josa : 조사\n",
        "    * Punctuation : 구두점\n",
        " * normalize(phrase) : 입력한 문장을 정규화 시킨다\n",
        " * phrases(phrase) : 입력한 문장에서 어구를 추출한다"
      ]
    },
    {
      "cell_type": "code",
      "metadata": {
        "id": "ieYyOOYutqlI"
      },
      "source": [
        "from konlpy.tag import Okt\n",
        "\n",
        "# Okt 형태소 분석기 객체 생성\n",
        "okt = Okt()\n",
        "text = '나는 방으로 들어가지 않는다.'\n",
        "\n",
        "# 형태소 추출\n",
        "morphs = okt.morphs(text)\n",
        "print(morphs)\n",
        "\n",
        "# 형태소와 품사 태그 추출\n",
        "pos = okt.pos(text)\n",
        "print(pos)\n",
        "\n",
        "# 명사만 추출\n",
        "nouns = okt.nouns(text)\n",
        "print(nouns)\n",
        "\n",
        "# 정규화, 어구 추출\n",
        "text = '아 오늘 먹은 치킨은 너무 짰어.'\n",
        "print(okt.normalize(text))\n",
        "print(okt.phrases(text))"
      ],
      "execution_count": null,
      "outputs": []
    },
    {
      "cell_type": "code",
      "metadata": {
        "id": "Uh5t2nfxvS8B"
      },
      "source": [
        ""
      ],
      "execution_count": null,
      "outputs": []
    }
  ]
}