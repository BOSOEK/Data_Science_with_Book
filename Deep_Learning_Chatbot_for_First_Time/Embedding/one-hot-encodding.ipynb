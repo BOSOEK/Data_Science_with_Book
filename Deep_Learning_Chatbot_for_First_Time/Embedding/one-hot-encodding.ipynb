{
  "nbformat": 4,
  "nbformat_minor": 0,
  "metadata": {
    "colab": {
      "name": "one-hot-encodding.ipynb",
      "provenance": [],
      "collapsed_sections": [],
      "authorship_tag": "ABX9TyPGZsfG3tRz5bY87KSgmyIU",
      "include_colab_link": true
    },
    "kernelspec": {
      "name": "python3",
      "display_name": "Python 3"
    },
    "language_info": {
      "name": "python"
    }
  },
  "cells": [
    {
      "cell_type": "markdown",
      "metadata": {
        "id": "view-in-github",
        "colab_type": "text"
      },
      "source": [
        "<a href=\"https://colab.research.google.com/github/BOSOEK/Machine_Learning_with_Book/blob/main/Deep_Learning_Chatbot_for_First_Time/Embedding/one-hot-encodding.ipynb\" target=\"_parent\"><img src=\"https://colab.research.google.com/assets/colab-badge.svg\" alt=\"Open In Colab\"/></a>"
      ]
    },
    {
      "cell_type": "markdown",
      "metadata": {
        "id": "K6uL3V0OKqQF"
      },
      "source": [
        "# 1. 원-핫 인코딩\n",
        "> 단어를 벡터로 변환하는 기본적인 방법.(요소중 하나만 1, 나머지는 0)   \n",
        "\n",
        "원-핫 인코딩의 결과를 원-핫 벡터 또는 희소 벡터라고도 한다.\n"
      ]
    },
    {
      "cell_type": "code",
      "metadata": {
        "id": "0BHJF7ejKROj",
        "colab": {
          "base_uri": "https://localhost:8080/"
        },
        "outputId": "5744e6e9-f273-480d-de0c-b0f081c9ca70"
      },
      "source": [
        "from konlpy.tag import Komoran\n",
        "import numpy as np\n",
        "\n",
        "komoran = Komoran()\n",
        "text = '오늘 날씨는 구름이 많아요.'\n",
        "\n",
        "# 명사 추출\n",
        "nouns = komoran.nouns(text)    # Konoran 형태소 분석기로 단어만 추출\n",
        "print(nouns)\n",
        "\n",
        "# 단어 사전 구축 및 단어별 인덱스 부여\n",
        "dics = {}\n",
        "for word in nouns:     # 뽑은 각 단어들을 딕셔너리로 저장\n",
        "    if word not in dics.keys():\n",
        "        dics[word] = len(dics)\n",
        "print(dics)\n",
        "\n",
        "# 원-핫 인코딩\n",
        "nb_classes = len(dics)    # 단어 사전 크기의 원-핫 벡터 크기 결정\n",
        "targets = list(dics.values())      # 단어 사전을 리스트로 변환\n",
        "one_hot_targets = np.eye(nb_classes)[targets]      # 넘파이의 eye() 함수로 원-핫 벡터 생성\n",
        "print(one_hot_targets)"
      ],
      "execution_count": 6,
      "outputs": [
        {
          "output_type": "stream",
          "text": [
            "['오늘', '날씨', '구름']\n",
            "{'오늘': 0, '날씨': 1, '구름': 2}\n",
            "[[1. 0. 0.]\n",
            " [0. 1. 0.]\n",
            " [0. 0. 1.]]\n"
          ],
          "name": "stdout"
        }
      ]
    },
    {
      "cell_type": "markdown",
      "metadata": {
        "id": "ZXtw4DQt18Kr"
      },
      "source": [
        "원-핫 인코딩의 경우는 구현 대비 좋은 성능으로 자주 사용되지만, __단어의 의미나 유사 단어와의 관계는 담지 않고, 단어 사전 크기에 따라 원-핫 벡터도 커져__ 메모리 낭비가 일어나는 문제가 생길수 도 있다."
      ]
    },
    {
      "cell_type": "code",
      "metadata": {
        "id": "aZu-rHsZwds2"
      },
      "source": [
        ""
      ],
      "execution_count": null,
      "outputs": []
    }
  ]
}