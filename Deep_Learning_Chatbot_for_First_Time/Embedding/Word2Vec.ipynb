{
  "nbformat": 4,
  "nbformat_minor": 0,
  "metadata": {
    "colab": {
      "name": "Word2Vec.ipynb",
      "provenance": [],
      "authorship_tag": "ABX9TyOT1Mw8PKiQ1elViXBrLIzu",
      "include_colab_link": true
    },
    "kernelspec": {
      "name": "python3",
      "display_name": "Python 3"
    },
    "language_info": {
      "name": "python"
    }
  },
  "cells": [
    {
      "cell_type": "markdown",
      "metadata": {
        "id": "view-in-github",
        "colab_type": "text"
      },
      "source": [
        "<a href=\"https://colab.research.google.com/github/BOSOEK/Machine_Learning_with_Book/blob/main/Deep_Learning_Chatbot_for_First_Time/Embedding/Word2Vec.ipynb\" target=\"_parent\"><img src=\"https://colab.research.google.com/assets/colab-badge.svg\" alt=\"Open In Colab\"/></a>"
      ]
    },
    {
      "cell_type": "markdown",
      "metadata": {
        "id": "_qlQ1aydNFcd"
      },
      "source": [
        "# Word2Vec\n",
        "Word2Vec는 2013년 구글에서 발표했으며 가장 많이 쓰이는 단어 임베딩 모델이다.(기존 모델과의 차이점은 __계산량이 획기적으로 적다__ ) Word2Vec는 CBOW와 skip-gram 의 두가지  모델로 제안되었다\n",
        "*  __CBOW(continuous bag-of-words)__ : 맥락이라 표현되는 __주변 단어들을 이용해 타깃 단어를 예측하는 신경망 모델__ 로 신경망의 입력을 주변 단어들로 구성, 출력을 타깃 단어로 설정해 학습된 가중치 데이터를 임베딩 벡터로 활용한다. 타깃 단어의 손실만 게산하면 되어 __학습 속도가 빠르다는 장점__ 이 있다.\n",
        "* __skip-gram__ : 하나의 __타깃 단어로 주변 단어들을 예측하는 신경망 모델__ 로 CBOW와 입출력이 반대로 되어 있어 CBOW에 비해 예측하는 맥락이 많아 진다. 때문에 __단어 분산 표현력이 우수해 임베딩 품질이 우수__ 하다.\n",
        "\n",
        "CBOW 모델에서는 타깃 단어 예측을 위한 앞뒤 단어 개수를 선택 할 수 있으며 이를 __window__ 라고 한다.   \n",
        "\n",
        "> Word2Vec의 단어 임베딩은 단어를 밀집 벡터로 표현해 학습으로 __의미상 비슷한 단어들을 비슷한 공간에 위치__ 시키며, 벡터 특성상 __의미에 따라 방향성__ 을 갖게 되어 이런 특징으로 자연어 의미를 파악한다."
      ]
    },
    {
      "cell_type": "code",
      "metadata": {
        "id": "eGtLF-kyNAf8"
      },
      "source": [
        ""
      ],
      "execution_count": null,
      "outputs": []
    },
    {
      "cell_type": "code",
      "metadata": {
        "id": "83BHDQ_hNFPM"
      },
      "source": [
        ""
      ],
      "execution_count": null,
      "outputs": []
    }
  ]
}