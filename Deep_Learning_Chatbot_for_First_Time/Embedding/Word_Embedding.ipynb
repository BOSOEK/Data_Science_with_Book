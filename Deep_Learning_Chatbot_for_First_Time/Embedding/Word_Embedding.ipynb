{
  "nbformat": 4,
  "nbformat_minor": 0,
  "metadata": {
    "colab": {
      "name": "Word_Embedding.ipynb",
      "provenance": [],
      "collapsed_sections": [],
      "authorship_tag": "ABX9TyMrmgH0fsyQqYjGI8ok13bH",
      "include_colab_link": true
    },
    "kernelspec": {
      "name": "python3",
      "display_name": "Python 3"
    },
    "language_info": {
      "name": "python"
    }
  },
  "cells": [
    {
      "cell_type": "markdown",
      "metadata": {
        "id": "view-in-github",
        "colab_type": "text"
      },
      "source": [
        "<a href=\"https://colab.research.google.com/github/BOSOEK/Machine_Learning_with_Book/blob/main/Deep_Learning_Chatbot_for_First_Time/Embedding/Word_Embedding.ipynb\" target=\"_parent\"><img src=\"https://colab.research.google.com/assets/colab-badge.svg\" alt=\"Open In Colab\"/></a>"
      ]
    },
    {
      "cell_type": "markdown",
      "metadata": {
        "id": "K6uL3V0OKqQF"
      },
      "source": [
        "# 단어 임베딩\n",
        "토크나이징으로 추출한 토큰들을 단어 임베딩한다.\n",
        "***\n",
        "\n",
        "### 1. 원-핫 인코딩\n",
        "> 단어를 벡터로 변환하는 기본적인 방법.(요소중 하나만 1, 나머지는 0)   \n",
        "\n",
        "원-핫 인코딩의 결과를 원-핫 벡터 또는 희소 벡터라고도 한다.\n"
      ]
    },
    {
      "cell_type": "code",
      "metadata": {
        "id": "0BHJF7ejKROj"
      },
      "source": [
        "from konlpy.tag import Komoran\n",
        "import numpy as np\n",
        "\n",
        "komoran = Komoran()\n",
        "text = '오늘 날시는 구름이 많아요.'\n",
        "\n",
        "# 명사 추출\n",
        "nouns = komoran.nouns(text)\n",
        "print(nouns)\n",
        "\n",
        "# 단어 사전 구축 및 단어별 인덱스 부여\n",
        "dict = {}\n",
        "for word in nouns:\n",
        "    if word not in dics.keys():\n",
        "        dics[word] = len(dics)\n",
        "print(dics)"
      ],
      "execution_count": null,
      "outputs": []
    }
  ]
}