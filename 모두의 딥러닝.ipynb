{
 "cells": [
  {
   "cell_type": "code",
   "execution_count": 7,
   "metadata": {},
   "outputs": [
    {
     "name": "stdout",
     "output_type": "stream",
     "text": [
      "공부한 시간=2, 실제 점수=81, 예측 점수 = 82\n",
      "공부한 시간=4, 실제 점수=93, 예측 점수 = 88\n",
      "공부한 시간=6, 실제 점수=91, 예측 점수 = 94\n",
      "공부한 시간=8, 실제 점수=97, 예측 점수 = 100\n",
      "mse 최종값 : 11.0\n"
     ]
    }
   ],
   "source": [
    "#선형회귀란? : 임의의 직선을 그어 이에 대한 평균 제곱 오차를 구하고, 이 값을 가장 작게 만드는 a와 b 값을 찾아가는 작업\n",
    "#평균 제곱 오차(선의 오차를 평가하는 방법중 가장 많이 쓰임) : 오차(예측값 - 실제 값)제곱의 합을 평균 냄\n",
    "\n",
    "import numpy as np\n",
    "\n",
    "#초기의 a와 b값 설정\n",
    "fake_a_b = [3, 76]\n",
    "\n",
    "#데이터 배열에 저장후\n",
    "data = [[2, 81], [4, 93], [6, 91], [8, 97]]\n",
    "#각각을 x와 y에 넣는다\n",
    "x = [i[0] for i in data]\n",
    "y = [i[1] for i in data]\n",
    "\n",
    "def predict(x) :\n",
    "    #전달 받은 x 값으로 y=ax+b 식 완성\n",
    "    return fake_a_b[0] *x + fake_a_b[1]\n",
    "def mse(y, y_hat):\n",
    "    #평균 제곱 오차 코드\n",
    "    return ((y-y_hat)**2).mean()\n",
    "def mse_val(y, predict_result):\n",
    "    #mse 함수에 값 정리해서 전달\n",
    "    return mse(np.array(y), np.array(predict_result))\n",
    "\n",
    "#ax+b의 값을 저장\n",
    "predict_result = []\n",
    "\n",
    "for i in range(len(x)) :\n",
    "    #ax+b의 값을 구한후 배열에 저장\n",
    "    predict_result.append(predict(x[i]))\n",
    "    #각각의 배열들의 값 출력\n",
    "    print(\"공부한 시간=%.f, 실제 점수=%.f, 예측 점수 = %.f\" %(x[i], y[i], predict(x[i])))\n",
    "#마지막으로 처음 가정한 a=3, b=76의 오차값 출력\n",
    "print(\"mse 최종값 : \" + str(mse_val(predict_result, y)))"
   ]
  },
  {
   "cell_type": "code",
   "execution_count": null,
   "metadata": {},
   "outputs": [],
   "source": []
  },
  {
   "cell_type": "code",
   "execution_count": null,
   "metadata": {},
   "outputs": [],
   "source": []
  }
 ],
 "metadata": {
  "kernelspec": {
   "display_name": "Python 3",
   "language": "python",
   "name": "python3"
  },
  "language_info": {
   "codemirror_mode": {
    "name": "ipython",
    "version": 3
   },
   "file_extension": ".py",
   "mimetype": "text/x-python",
   "name": "python",
   "nbconvert_exporter": "python",
   "pygments_lexer": "ipython3",
   "version": "3.7.6"
  }
 },
 "nbformat": 4,
 "nbformat_minor": 4
}
